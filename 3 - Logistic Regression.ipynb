{
 "cells": [
  {
   "cell_type": "code",
   "execution_count": 1,
   "metadata": {},
   "outputs": [
    {
     "data": {
      "text/html": [
       "<div>\n",
       "<style scoped>\n",
       "    .dataframe tbody tr th:only-of-type {\n",
       "        vertical-align: middle;\n",
       "    }\n",
       "\n",
       "    .dataframe tbody tr th {\n",
       "        vertical-align: top;\n",
       "    }\n",
       "\n",
       "    .dataframe thead th {\n",
       "        text-align: right;\n",
       "    }\n",
       "</style>\n",
       "<table border=\"1\" class=\"dataframe\">\n",
       "  <thead>\n",
       "    <tr style=\"text-align: right;\">\n",
       "      <th></th>\n",
       "      <th>Pregnancies</th>\n",
       "      <th>Glucose</th>\n",
       "      <th>BloodPressure</th>\n",
       "      <th>SkinThickness</th>\n",
       "      <th>Insulin</th>\n",
       "      <th>BMI</th>\n",
       "      <th>DiabetesPedigreeFunction</th>\n",
       "      <th>Age</th>\n",
       "      <th>Outcome</th>\n",
       "    </tr>\n",
       "  </thead>\n",
       "  <tbody>\n",
       "    <tr>\n",
       "      <th>0</th>\n",
       "      <td>6</td>\n",
       "      <td>148</td>\n",
       "      <td>72</td>\n",
       "      <td>35</td>\n",
       "      <td>0</td>\n",
       "      <td>33.6</td>\n",
       "      <td>0.627</td>\n",
       "      <td>50</td>\n",
       "      <td>1</td>\n",
       "    </tr>\n",
       "    <tr>\n",
       "      <th>1</th>\n",
       "      <td>1</td>\n",
       "      <td>85</td>\n",
       "      <td>66</td>\n",
       "      <td>29</td>\n",
       "      <td>0</td>\n",
       "      <td>26.6</td>\n",
       "      <td>0.351</td>\n",
       "      <td>31</td>\n",
       "      <td>0</td>\n",
       "    </tr>\n",
       "    <tr>\n",
       "      <th>2</th>\n",
       "      <td>8</td>\n",
       "      <td>183</td>\n",
       "      <td>64</td>\n",
       "      <td>0</td>\n",
       "      <td>0</td>\n",
       "      <td>23.3</td>\n",
       "      <td>0.672</td>\n",
       "      <td>32</td>\n",
       "      <td>1</td>\n",
       "    </tr>\n",
       "    <tr>\n",
       "      <th>3</th>\n",
       "      <td>1</td>\n",
       "      <td>89</td>\n",
       "      <td>66</td>\n",
       "      <td>23</td>\n",
       "      <td>94</td>\n",
       "      <td>28.1</td>\n",
       "      <td>0.167</td>\n",
       "      <td>21</td>\n",
       "      <td>0</td>\n",
       "    </tr>\n",
       "    <tr>\n",
       "      <th>4</th>\n",
       "      <td>0</td>\n",
       "      <td>137</td>\n",
       "      <td>40</td>\n",
       "      <td>35</td>\n",
       "      <td>168</td>\n",
       "      <td>43.1</td>\n",
       "      <td>2.288</td>\n",
       "      <td>33</td>\n",
       "      <td>1</td>\n",
       "    </tr>\n",
       "    <tr>\n",
       "      <th>...</th>\n",
       "      <td>...</td>\n",
       "      <td>...</td>\n",
       "      <td>...</td>\n",
       "      <td>...</td>\n",
       "      <td>...</td>\n",
       "      <td>...</td>\n",
       "      <td>...</td>\n",
       "      <td>...</td>\n",
       "      <td>...</td>\n",
       "    </tr>\n",
       "    <tr>\n",
       "      <th>763</th>\n",
       "      <td>10</td>\n",
       "      <td>101</td>\n",
       "      <td>76</td>\n",
       "      <td>48</td>\n",
       "      <td>180</td>\n",
       "      <td>32.9</td>\n",
       "      <td>0.171</td>\n",
       "      <td>63</td>\n",
       "      <td>0</td>\n",
       "    </tr>\n",
       "    <tr>\n",
       "      <th>764</th>\n",
       "      <td>2</td>\n",
       "      <td>122</td>\n",
       "      <td>70</td>\n",
       "      <td>27</td>\n",
       "      <td>0</td>\n",
       "      <td>36.8</td>\n",
       "      <td>0.340</td>\n",
       "      <td>27</td>\n",
       "      <td>0</td>\n",
       "    </tr>\n",
       "    <tr>\n",
       "      <th>765</th>\n",
       "      <td>5</td>\n",
       "      <td>121</td>\n",
       "      <td>72</td>\n",
       "      <td>23</td>\n",
       "      <td>112</td>\n",
       "      <td>26.2</td>\n",
       "      <td>0.245</td>\n",
       "      <td>30</td>\n",
       "      <td>0</td>\n",
       "    </tr>\n",
       "    <tr>\n",
       "      <th>766</th>\n",
       "      <td>1</td>\n",
       "      <td>126</td>\n",
       "      <td>60</td>\n",
       "      <td>0</td>\n",
       "      <td>0</td>\n",
       "      <td>30.1</td>\n",
       "      <td>0.349</td>\n",
       "      <td>47</td>\n",
       "      <td>1</td>\n",
       "    </tr>\n",
       "    <tr>\n",
       "      <th>767</th>\n",
       "      <td>1</td>\n",
       "      <td>93</td>\n",
       "      <td>70</td>\n",
       "      <td>31</td>\n",
       "      <td>0</td>\n",
       "      <td>30.4</td>\n",
       "      <td>0.315</td>\n",
       "      <td>23</td>\n",
       "      <td>0</td>\n",
       "    </tr>\n",
       "  </tbody>\n",
       "</table>\n",
       "<p>768 rows × 9 columns</p>\n",
       "</div>"
      ],
      "text/plain": [
       "     Pregnancies  Glucose  BloodPressure  SkinThickness  Insulin   BMI  \\\n",
       "0              6      148             72             35        0  33.6   \n",
       "1              1       85             66             29        0  26.6   \n",
       "2              8      183             64              0        0  23.3   \n",
       "3              1       89             66             23       94  28.1   \n",
       "4              0      137             40             35      168  43.1   \n",
       "..           ...      ...            ...            ...      ...   ...   \n",
       "763           10      101             76             48      180  32.9   \n",
       "764            2      122             70             27        0  36.8   \n",
       "765            5      121             72             23      112  26.2   \n",
       "766            1      126             60              0        0  30.1   \n",
       "767            1       93             70             31        0  30.4   \n",
       "\n",
       "     DiabetesPedigreeFunction  Age  Outcome  \n",
       "0                       0.627   50        1  \n",
       "1                       0.351   31        0  \n",
       "2                       0.672   32        1  \n",
       "3                       0.167   21        0  \n",
       "4                       2.288   33        1  \n",
       "..                        ...  ...      ...  \n",
       "763                     0.171   63        0  \n",
       "764                     0.340   27        0  \n",
       "765                     0.245   30        0  \n",
       "766                     0.349   47        1  \n",
       "767                     0.315   23        0  \n",
       "\n",
       "[768 rows x 9 columns]"
      ]
     },
     "execution_count": 1,
     "metadata": {},
     "output_type": "execute_result"
    }
   ],
   "source": [
    "\n",
    "import pandas as pd\n",
    "import numpy as np\n",
    "import matplotlib.pyplot as plt\n",
    "import seaborn as sns\n",
    "%matplotlib inline\n",
    "#read in the data using pandas\n",
    "df = pd.read_csv('diabetes.csv')\n",
    "#check data has been read in properly\n",
    "df"
   ]
  },
  {
   "cell_type": "code",
   "execution_count": 2,
   "metadata": {},
   "outputs": [
    {
     "data": {
      "text/html": [
       "<div>\n",
       "<style scoped>\n",
       "    .dataframe tbody tr th:only-of-type {\n",
       "        vertical-align: middle;\n",
       "    }\n",
       "\n",
       "    .dataframe tbody tr th {\n",
       "        vertical-align: top;\n",
       "    }\n",
       "\n",
       "    .dataframe thead th {\n",
       "        text-align: right;\n",
       "    }\n",
       "</style>\n",
       "<table border=\"1\" class=\"dataframe\">\n",
       "  <thead>\n",
       "    <tr style=\"text-align: right;\">\n",
       "      <th></th>\n",
       "      <th>Pregnancies</th>\n",
       "      <th>Glucose</th>\n",
       "      <th>BloodPressure</th>\n",
       "      <th>SkinThickness</th>\n",
       "      <th>Insulin</th>\n",
       "      <th>BMI</th>\n",
       "      <th>DiabetesPedigreeFunction</th>\n",
       "      <th>Age</th>\n",
       "      <th>Outcome</th>\n",
       "    </tr>\n",
       "  </thead>\n",
       "  <tbody>\n",
       "    <tr>\n",
       "      <th>count</th>\n",
       "      <td>768.000000</td>\n",
       "      <td>768.000000</td>\n",
       "      <td>768.000000</td>\n",
       "      <td>768.000000</td>\n",
       "      <td>768.000000</td>\n",
       "      <td>768.000000</td>\n",
       "      <td>768.000000</td>\n",
       "      <td>768.000000</td>\n",
       "      <td>768.000000</td>\n",
       "    </tr>\n",
       "    <tr>\n",
       "      <th>mean</th>\n",
       "      <td>3.845052</td>\n",
       "      <td>120.894531</td>\n",
       "      <td>69.105469</td>\n",
       "      <td>20.536458</td>\n",
       "      <td>79.799479</td>\n",
       "      <td>31.992578</td>\n",
       "      <td>0.471876</td>\n",
       "      <td>33.240885</td>\n",
       "      <td>0.348958</td>\n",
       "    </tr>\n",
       "    <tr>\n",
       "      <th>std</th>\n",
       "      <td>3.369578</td>\n",
       "      <td>31.972618</td>\n",
       "      <td>19.355807</td>\n",
       "      <td>15.952218</td>\n",
       "      <td>115.244002</td>\n",
       "      <td>7.884160</td>\n",
       "      <td>0.331329</td>\n",
       "      <td>11.760232</td>\n",
       "      <td>0.476951</td>\n",
       "    </tr>\n",
       "    <tr>\n",
       "      <th>min</th>\n",
       "      <td>0.000000</td>\n",
       "      <td>0.000000</td>\n",
       "      <td>0.000000</td>\n",
       "      <td>0.000000</td>\n",
       "      <td>0.000000</td>\n",
       "      <td>0.000000</td>\n",
       "      <td>0.078000</td>\n",
       "      <td>21.000000</td>\n",
       "      <td>0.000000</td>\n",
       "    </tr>\n",
       "    <tr>\n",
       "      <th>25%</th>\n",
       "      <td>1.000000</td>\n",
       "      <td>99.000000</td>\n",
       "      <td>62.000000</td>\n",
       "      <td>0.000000</td>\n",
       "      <td>0.000000</td>\n",
       "      <td>27.300000</td>\n",
       "      <td>0.243750</td>\n",
       "      <td>24.000000</td>\n",
       "      <td>0.000000</td>\n",
       "    </tr>\n",
       "    <tr>\n",
       "      <th>50%</th>\n",
       "      <td>3.000000</td>\n",
       "      <td>117.000000</td>\n",
       "      <td>72.000000</td>\n",
       "      <td>23.000000</td>\n",
       "      <td>30.500000</td>\n",
       "      <td>32.000000</td>\n",
       "      <td>0.372500</td>\n",
       "      <td>29.000000</td>\n",
       "      <td>0.000000</td>\n",
       "    </tr>\n",
       "    <tr>\n",
       "      <th>75%</th>\n",
       "      <td>6.000000</td>\n",
       "      <td>140.250000</td>\n",
       "      <td>80.000000</td>\n",
       "      <td>32.000000</td>\n",
       "      <td>127.250000</td>\n",
       "      <td>36.600000</td>\n",
       "      <td>0.626250</td>\n",
       "      <td>41.000000</td>\n",
       "      <td>1.000000</td>\n",
       "    </tr>\n",
       "    <tr>\n",
       "      <th>max</th>\n",
       "      <td>17.000000</td>\n",
       "      <td>199.000000</td>\n",
       "      <td>122.000000</td>\n",
       "      <td>99.000000</td>\n",
       "      <td>846.000000</td>\n",
       "      <td>67.100000</td>\n",
       "      <td>2.420000</td>\n",
       "      <td>81.000000</td>\n",
       "      <td>1.000000</td>\n",
       "    </tr>\n",
       "  </tbody>\n",
       "</table>\n",
       "</div>"
      ],
      "text/plain": [
       "       Pregnancies     Glucose  BloodPressure  SkinThickness     Insulin  \\\n",
       "count   768.000000  768.000000     768.000000     768.000000  768.000000   \n",
       "mean      3.845052  120.894531      69.105469      20.536458   79.799479   \n",
       "std       3.369578   31.972618      19.355807      15.952218  115.244002   \n",
       "min       0.000000    0.000000       0.000000       0.000000    0.000000   \n",
       "25%       1.000000   99.000000      62.000000       0.000000    0.000000   \n",
       "50%       3.000000  117.000000      72.000000      23.000000   30.500000   \n",
       "75%       6.000000  140.250000      80.000000      32.000000  127.250000   \n",
       "max      17.000000  199.000000     122.000000      99.000000  846.000000   \n",
       "\n",
       "              BMI  DiabetesPedigreeFunction         Age     Outcome  \n",
       "count  768.000000                768.000000  768.000000  768.000000  \n",
       "mean    31.992578                  0.471876   33.240885    0.348958  \n",
       "std      7.884160                  0.331329   11.760232    0.476951  \n",
       "min      0.000000                  0.078000   21.000000    0.000000  \n",
       "25%     27.300000                  0.243750   24.000000    0.000000  \n",
       "50%     32.000000                  0.372500   29.000000    0.000000  \n",
       "75%     36.600000                  0.626250   41.000000    1.000000  \n",
       "max     67.100000                  2.420000   81.000000    1.000000  "
      ]
     },
     "execution_count": 2,
     "metadata": {},
     "output_type": "execute_result"
    }
   ],
   "source": [
    "df.describe()"
   ]
  },
  {
   "cell_type": "code",
   "execution_count": 3,
   "metadata": {},
   "outputs": [
    {
     "data": {
      "text/plain": [
       "0      1\n",
       "1      0\n",
       "2      1\n",
       "3      0\n",
       "4      1\n",
       "      ..\n",
       "763    0\n",
       "764    0\n",
       "765    0\n",
       "766    1\n",
       "767    0\n",
       "Name: Outcome, Length: 768, dtype: int64"
      ]
     },
     "execution_count": 3,
     "metadata": {},
     "output_type": "execute_result"
    }
   ],
   "source": [
    "x = df.drop('Outcome',axis=1)\n",
    "y = df['Outcome']\n",
    "x\n",
    "y"
   ]
  },
  {
   "cell_type": "code",
   "execution_count": 4,
   "metadata": {},
   "outputs": [
    {
     "data": {
      "text/plain": [
       "LogisticRegression(max_iter=1000)"
      ]
     },
     "execution_count": 4,
     "metadata": {},
     "output_type": "execute_result"
    }
   ],
   "source": [
    "from sklearn.linear_model import LogisticRegression\n",
    "# Create Logistic Regression classifier\n",
    "logmodel = LogisticRegression(max_iter=1000)\n",
    "# Fit the classifier to the data\n",
    "logmodel.fit(x,y)"
   ]
  },
  {
   "cell_type": "code",
   "execution_count": 5,
   "metadata": {},
   "outputs": [
    {
     "data": {
      "text/plain": [
       "array([[ 1.22497018e-01,  3.51139450e-02, -1.33021411e-02,\n",
       "         7.92244110e-04, -1.17459864e-03,  8.96139928e-02,\n",
       "         8.68328723e-01,  1.49948478e-02]])"
      ]
     },
     "execution_count": 5,
     "metadata": {},
     "output_type": "execute_result"
    }
   ],
   "source": [
    "logmodel.coef_\n"
   ]
  },
  {
   "cell_type": "code",
   "execution_count": 6,
   "metadata": {},
   "outputs": [
    {
     "data": {
      "text/plain": [
       "array([-8.3648862])"
      ]
     },
     "execution_count": 6,
     "metadata": {},
     "output_type": "execute_result"
    }
   ],
   "source": [
    "logmodel.intercept_"
   ]
  },
  {
   "cell_type": "code",
   "execution_count": 7,
   "metadata": {
    "scrolled": true
   },
   "outputs": [
    {
     "name": "stdout",
     "output_type": "stream",
     "text": [
      "                  Variables  Coefficients\n",
      "0                 Intercept     -8.364886\n",
      "1               Pregnancies      0.122497\n",
      "2                   Glucose      0.035114\n",
      "3             BloodPressure     -0.013302\n",
      "4             SkinThickness      0.000792\n",
      "5                   Insulin     -0.001175\n",
      "6                       BMI      0.089614\n",
      "7  DiabetesPedigreeFunction      0.868329\n",
      "8                       Age      0.014995\n"
     ]
    }
   ],
   "source": [
    "Model_intercept = pd.DataFrame({\"Variables\":'Intercept',\"Coefficients\":logmodel.intercept_[0]},index=[0])\n",
    "Model_coefficients = pd.DataFrame({\"Variables\":x.columns,\"Coefficients\":np.transpose(logmodel.coef_[0])})\n",
    "Model_coefficients = pd.concat([Model_intercept,Model_coefficients]).reset_index(drop=True)\n",
    "print(Model_coefficients)"
   ]
  },
  {
   "cell_type": "code",
   "execution_count": 8,
   "metadata": {},
   "outputs": [
    {
     "data": {
      "text/plain": [
       "0.78125"
      ]
     },
     "execution_count": 8,
     "metadata": {},
     "output_type": "execute_result"
    }
   ],
   "source": [
    "logmodel.score(x,y)"
   ]
  },
  {
   "cell_type": "code",
   "execution_count": 9,
   "metadata": {},
   "outputs": [],
   "source": [
    "from sklearn.model_selection import train_test_split\n",
    "#split dataset into train and test data\n",
    "x_train, x_test, y_train, y_test = train_test_split(x, y, test_size=0.2, random_state=1, stratify=y)"
   ]
  },
  {
   "cell_type": "code",
   "execution_count": 10,
   "metadata": {},
   "outputs": [
    {
     "data": {
      "text/plain": [
       "LogisticRegression(max_iter=1000)"
      ]
     },
     "execution_count": 10,
     "metadata": {},
     "output_type": "execute_result"
    }
   ],
   "source": [
    "from sklearn.linear_model import LogisticRegression\n",
    "# Create Logistic Regression classifier\n",
    "logmodel = LogisticRegression(max_iter=1000)\n",
    "# Fit the classifier to the data\n",
    "logmodel.fit(x_train,y_train)"
   ]
  },
  {
   "cell_type": "code",
   "execution_count": 11,
   "metadata": {},
   "outputs": [
    {
     "data": {
      "text/plain": [
       "array([0, 0, 0, 0, 0, 0, 0, 0, 1, 0, 0, 0, 1, 0, 0, 0, 0, 1, 0, 1, 1, 0,\n",
       "       0, 0, 0, 0, 0, 0, 0, 0, 0, 0, 0, 0, 1, 1, 0, 1, 0, 0, 0, 1, 0, 0,\n",
       "       0, 0, 0, 0, 1, 1, 0, 0, 1, 0, 0, 0, 0, 0, 1, 1, 0, 0, 0, 0, 1, 0,\n",
       "       0, 1, 0, 0, 1, 0, 0, 0, 0, 0, 1, 0, 0, 0, 0, 0, 0, 0, 0, 1, 0, 0,\n",
       "       1, 0, 1, 0, 0, 0, 0, 0, 0, 0, 1, 0, 0, 0, 0, 1, 0, 0, 1, 0, 0, 1,\n",
       "       0, 0, 0, 0, 1, 1, 0, 0, 1, 1, 0, 0, 0, 0, 0, 1, 0, 0, 1, 1, 1, 0,\n",
       "       0, 0, 0, 0, 1, 0, 0, 1, 0, 0, 0, 0, 0, 0, 0, 0, 0, 0, 1, 0, 1, 0])"
      ]
     },
     "execution_count": 11,
     "metadata": {},
     "output_type": "execute_result"
    }
   ],
   "source": [
    "#Make prediction using test data\n",
    "y_pred = logmodel.predict(x_test)\n",
    "y_pred"
   ]
  },
  {
   "cell_type": "code",
   "execution_count": 12,
   "metadata": {},
   "outputs": [
    {
     "data": {
      "text/plain": [
       "488    0\n",
       "413    0\n",
       "112    0\n",
       "222    0\n",
       "711    0\n",
       "      ..\n",
       "139    0\n",
       "178    0\n",
       "654    0\n",
       "110    1\n",
       "102    0\n",
       "Name: Outcome, Length: 154, dtype: int64"
      ]
     },
     "execution_count": 12,
     "metadata": {},
     "output_type": "execute_result"
    }
   ],
   "source": [
    "y_test"
   ]
  },
  {
   "cell_type": "code",
   "execution_count": 13,
   "metadata": {},
   "outputs": [
    {
     "name": "stdout",
     "output_type": "stream",
     "text": [
      "0.7857142857142857\n"
     ]
    }
   ],
   "source": [
    "# Use score method to get test accuracy of model\n",
    "score = logmodel.score(x_test, y_test)\n",
    "print(score)"
   ]
  },
  {
   "cell_type": "code",
   "execution_count": 14,
   "metadata": {},
   "outputs": [
    {
     "name": "stdout",
     "output_type": "stream",
     "text": [
      "                  Variables  Coefficients\n",
      "0                 Intercept     -8.397104\n",
      "1               Pregnancies      0.134735\n",
      "2                   Glucose      0.034457\n",
      "3             BloodPressure     -0.016894\n",
      "4             SkinThickness     -0.004598\n",
      "5                   Insulin     -0.000593\n",
      "6                       BMI      0.096823\n",
      "7  DiabetesPedigreeFunction      1.131844\n",
      "8                       Age      0.014429\n"
     ]
    }
   ],
   "source": [
    "Model_intercept = pd.DataFrame({\"Variables\":'Intercept',\"Coefficients\":logmodel.intercept_[0]},index=[0])\n",
    "Model_coefficients = pd.DataFrame({\"Variables\":x.columns,\"Coefficients\":np.transpose(logmodel.coef_[0])})\n",
    "Model_coefficients = pd.concat([Model_intercept,Model_coefficients]).reset_index(drop=True)\n",
    "print(Model_coefficients)"
   ]
  },
  {
   "cell_type": "code",
   "execution_count": 15,
   "metadata": {},
   "outputs": [
    {
     "name": "stdout",
     "output_type": "stream",
     "text": [
      "0.7850162866449512\n"
     ]
    }
   ],
   "source": [
    "# Use score method to get training accuracy of model\n",
    "score = logmodel.score(x_train, y_train)\n",
    "print(score)"
   ]
  },
  {
   "cell_type": "code",
   "execution_count": 16,
   "metadata": {},
   "outputs": [],
   "source": [
    "from sklearn import metrics"
   ]
  },
  {
   "cell_type": "code",
   "execution_count": 17,
   "metadata": {},
   "outputs": [
    {
     "data": {
      "text/plain": [
       "array([[92,  8],\n",
       "       [25, 29]])"
      ]
     },
     "execution_count": 17,
     "metadata": {},
     "output_type": "execute_result"
    }
   ],
   "source": [
    "# import the metrics class\n",
    "from sklearn.metrics import confusion_matrix\n",
    "cnf_matrix = confusion_matrix(y_test, y_pred)\n",
    "#sonfusion matrix test seti üzerinden üretilmeli\n",
    "cnf_matrix"
   ]
  },
  {
   "cell_type": "code",
   "execution_count": 18,
   "metadata": {},
   "outputs": [],
   "source": [
    "def plot_conf_mat(y_test, y_preds):\n",
    "    \"\"\"\n",
    "    Plots a nice looking confusion matrix using Seaborn's heatmap()\n",
    "    \"\"\"\n",
    "    sns.set(font_scale=1.5)\n",
    "    fig, ax = plt.subplots(figsize=(3, 3))\n",
    "    ax = sns.heatmap(confusion_matrix(y_test, y_preds),\n",
    "                     annot=True,\n",
    "                     cbar=False)\n",
    "    plt.xlabel(\"Predicted label\")\n",
    "    plt.ylabel(\"True label\")\n",
    "    \n",
    "    bottom, top = ax.get_ylim()\n",
    "    ax.set_ylim(bottom + 0.5, top - 0.5)\n"
   ]
  },
  {
   "cell_type": "code",
   "execution_count": 19,
   "metadata": {},
   "outputs": [
    {
     "data": {
      "image/png": "[encoded data removed]",
      "text/plain": [
       "<Figure size 216x216 with 1 Axes>"
      ]
     },
     "metadata": {},
     "output_type": "display_data"
    }
   ],
   "source": [
    "plot_conf_mat(y_test, y_pred)"
   ]
  },
  {
   "cell_type": "code",
   "execution_count": 20,
   "metadata": {
    "scrolled": true
   },
   "outputs": [
    {
     "name": "stdout",
     "output_type": "stream",
     "text": [
      "Accuracy: 0.7857142857142857\n",
      "Precision: 0.7837837837837838\n",
      "Recall: 0.5370370370370371\n"
     ]
    }
   ],
   "source": [
    "print(\"Accuracy:\",metrics.accuracy_score(y_test, y_pred))\n",
    "print(\"Precision:\",metrics.precision_score(y_test, y_pred))\n",
    "print(\"Recall:\",metrics.recall_score(y_test, y_pred))"
   ]
  },
  {
   "cell_type": "code",
   "execution_count": 21,
   "metadata": {},
   "outputs": [
    {
     "data": {
      "text/html": [
       "<div>\n",
       "<style scoped>\n",
       "    .dataframe tbody tr th:only-of-type {\n",
       "        vertical-align: middle;\n",
       "    }\n",
       "\n",
       "    .dataframe tbody tr th {\n",
       "        vertical-align: top;\n",
       "    }\n",
       "\n",
       "    .dataframe thead th {\n",
       "        text-align: right;\n",
       "    }\n",
       "</style>\n",
       "<table border=\"1\" class=\"dataframe\">\n",
       "  <thead>\n",
       "    <tr style=\"text-align: right;\">\n",
       "      <th></th>\n",
       "      <th>Pregnancies</th>\n",
       "      <th>Glucose</th>\n",
       "      <th>BloodPressure</th>\n",
       "      <th>SkinThickness</th>\n",
       "      <th>Insulin</th>\n",
       "      <th>BMI</th>\n",
       "      <th>DiabetesPedigreeFunction</th>\n",
       "      <th>Age</th>\n",
       "    </tr>\n",
       "  </thead>\n",
       "  <tbody>\n",
       "    <tr>\n",
       "      <th>488</th>\n",
       "      <td>4</td>\n",
       "      <td>99</td>\n",
       "      <td>72</td>\n",
       "      <td>17</td>\n",
       "      <td>0</td>\n",
       "      <td>25.6</td>\n",
       "      <td>0.294</td>\n",
       "      <td>28</td>\n",
       "    </tr>\n",
       "    <tr>\n",
       "      <th>413</th>\n",
       "      <td>1</td>\n",
       "      <td>143</td>\n",
       "      <td>74</td>\n",
       "      <td>22</td>\n",
       "      <td>61</td>\n",
       "      <td>26.2</td>\n",
       "      <td>0.256</td>\n",
       "      <td>21</td>\n",
       "    </tr>\n",
       "    <tr>\n",
       "      <th>112</th>\n",
       "      <td>1</td>\n",
       "      <td>89</td>\n",
       "      <td>76</td>\n",
       "      <td>34</td>\n",
       "      <td>37</td>\n",
       "      <td>31.2</td>\n",
       "      <td>0.192</td>\n",
       "      <td>23</td>\n",
       "    </tr>\n",
       "    <tr>\n",
       "      <th>222</th>\n",
       "      <td>7</td>\n",
       "      <td>119</td>\n",
       "      <td>0</td>\n",
       "      <td>0</td>\n",
       "      <td>0</td>\n",
       "      <td>25.2</td>\n",
       "      <td>0.209</td>\n",
       "      <td>37</td>\n",
       "    </tr>\n",
       "    <tr>\n",
       "      <th>711</th>\n",
       "      <td>5</td>\n",
       "      <td>126</td>\n",
       "      <td>78</td>\n",
       "      <td>27</td>\n",
       "      <td>22</td>\n",
       "      <td>29.6</td>\n",
       "      <td>0.439</td>\n",
       "      <td>40</td>\n",
       "    </tr>\n",
       "    <tr>\n",
       "      <th>...</th>\n",
       "      <td>...</td>\n",
       "      <td>...</td>\n",
       "      <td>...</td>\n",
       "      <td>...</td>\n",
       "      <td>...</td>\n",
       "      <td>...</td>\n",
       "      <td>...</td>\n",
       "      <td>...</td>\n",
       "    </tr>\n",
       "    <tr>\n",
       "      <th>139</th>\n",
       "      <td>5</td>\n",
       "      <td>105</td>\n",
       "      <td>72</td>\n",
       "      <td>29</td>\n",
       "      <td>325</td>\n",
       "      <td>36.9</td>\n",
       "      <td>0.159</td>\n",
       "      <td>28</td>\n",
       "    </tr>\n",
       "    <tr>\n",
       "      <th>178</th>\n",
       "      <td>5</td>\n",
       "      <td>143</td>\n",
       "      <td>78</td>\n",
       "      <td>0</td>\n",
       "      <td>0</td>\n",
       "      <td>45.0</td>\n",
       "      <td>0.190</td>\n",
       "      <td>47</td>\n",
       "    </tr>\n",
       "    <tr>\n",
       "      <th>654</th>\n",
       "      <td>1</td>\n",
       "      <td>106</td>\n",
       "      <td>70</td>\n",
       "      <td>28</td>\n",
       "      <td>135</td>\n",
       "      <td>34.2</td>\n",
       "      <td>0.142</td>\n",
       "      <td>22</td>\n",
       "    </tr>\n",
       "    <tr>\n",
       "      <th>110</th>\n",
       "      <td>3</td>\n",
       "      <td>171</td>\n",
       "      <td>72</td>\n",
       "      <td>33</td>\n",
       "      <td>135</td>\n",
       "      <td>33.3</td>\n",
       "      <td>0.199</td>\n",
       "      <td>24</td>\n",
       "    </tr>\n",
       "    <tr>\n",
       "      <th>102</th>\n",
       "      <td>0</td>\n",
       "      <td>125</td>\n",
       "      <td>96</td>\n",
       "      <td>0</td>\n",
       "      <td>0</td>\n",
       "      <td>22.5</td>\n",
       "      <td>0.262</td>\n",
       "      <td>21</td>\n",
       "    </tr>\n",
       "  </tbody>\n",
       "</table>\n",
       "<p>154 rows × 8 columns</p>\n",
       "</div>"
      ],
      "text/plain": [
       "     Pregnancies  Glucose  BloodPressure  SkinThickness  Insulin   BMI  \\\n",
       "488            4       99             72             17        0  25.6   \n",
       "413            1      143             74             22       61  26.2   \n",
       "112            1       89             76             34       37  31.2   \n",
       "222            7      119              0              0        0  25.2   \n",
       "711            5      126             78             27       22  29.6   \n",
       "..           ...      ...            ...            ...      ...   ...   \n",
       "139            5      105             72             29      325  36.9   \n",
       "178            5      143             78              0        0  45.0   \n",
       "654            1      106             70             28      135  34.2   \n",
       "110            3      171             72             33      135  33.3   \n",
       "102            0      125             96              0        0  22.5   \n",
       "\n",
       "     DiabetesPedigreeFunction  Age  \n",
       "488                     0.294   28  \n",
       "413                     0.256   21  \n",
       "112                     0.192   23  \n",
       "222                     0.209   37  \n",
       "711                     0.439   40  \n",
       "..                        ...  ...  \n",
       "139                     0.159   28  \n",
       "178                     0.190   47  \n",
       "654                     0.142   22  \n",
       "110                     0.199   24  \n",
       "102                     0.262   21  \n",
       "\n",
       "[154 rows x 8 columns]"
      ]
     },
     "execution_count": 21,
     "metadata": {},
     "output_type": "execute_result"
    }
   ],
   "source": [
    "x_test"
   ]
  },
  {
   "cell_type": "code",
   "execution_count": 22,
   "metadata": {},
   "outputs": [
    {
     "data": {
      "text/plain": [
       "array([0, 0, 0, 0, 0, 0, 0, 0, 1, 0, 0, 0, 1, 0, 0, 0, 0, 1, 0, 1, 1, 0,\n",
       "       0, 0, 0, 0, 0, 0, 0, 0, 0, 0, 0, 0, 1, 1, 0, 1, 0, 0, 0, 1, 0, 0,\n",
       "       0, 0, 0, 0, 1, 1, 0, 0, 1, 0, 0, 0, 0, 0, 1, 1, 0, 0, 0, 0, 1, 0,\n",
       "       0, 1, 0, 0, 1, 0, 0, 0, 0, 0, 1, 0, 0, 0, 0, 0, 0, 0, 0, 1, 0, 0,\n",
       "       1, 0, 1, 0, 0, 0, 0, 0, 0, 0, 1, 0, 0, 0, 0, 1, 0, 0, 1, 0, 0, 1,\n",
       "       0, 0, 0, 0, 1, 1, 0, 0, 1, 1, 0, 0, 0, 0, 0, 1, 0, 0, 1, 1, 1, 0,\n",
       "       0, 0, 0, 0, 1, 0, 0, 1, 0, 0, 0, 0, 0, 0, 0, 0, 0, 0, 1, 0, 1, 0])"
      ]
     },
     "execution_count": 22,
     "metadata": {},
     "output_type": "execute_result"
    }
   ],
   "source": [
    "y_pred"
   ]
  },
  {
   "cell_type": "code",
   "execution_count": 23,
   "metadata": {},
   "outputs": [
    {
     "data": {
      "text/plain": [
       "array([0.07405748, 0.1689723 , 0.04361264, 0.46426977, 0.28972517,\n",
       "       0.22729438, 0.02975195, 0.09708984, 0.77742323, 0.05024051,\n",
       "       0.21977532, 0.05515284, 0.74204904, 0.02976036, 0.04933119,\n",
       "       0.28647854, 0.27815671, 0.52524081, 0.13815548, 0.6840451 ,\n",
       "       0.7445765 , 0.08270818, 0.43701742, 0.02800556, 0.2277261 ,\n",
       "       0.16755191, 0.47651968, 0.08708975, 0.04943562, 0.06282326,\n",
       "       0.06345449, 0.003282  , 0.02680183, 0.24142186, 0.70468891,\n",
       "       0.86923143, 0.17485564, 0.85557316, 0.15916502, 0.1498547 ,\n",
       "       0.08868758, 0.87617486, 0.14312061, 0.45708239, 0.25185066,\n",
       "       0.22876204, 0.24373232, 0.11731103, 0.52272471, 0.9219009 ,\n",
       "       0.04007008, 0.19154888, 0.64819515, 0.40691837, 0.21215282,\n",
       "       0.29352765, 0.15178452, 0.03190889, 0.66562291, 0.7111144 ,\n",
       "       0.0588135 , 0.24042296, 0.03062684, 0.09003964, 0.977326  ,\n",
       "       0.10396308, 0.00183696, 0.81191686, 0.03699036, 0.40600989,\n",
       "       0.63398842, 0.04429874, 0.39082053, 0.39872387, 0.48597978,\n",
       "       0.20238921, 0.74096017, 0.47607399, 0.3145627 , 0.49271028,\n",
       "       0.3267418 , 0.43400191, 0.47467428, 0.46284698, 0.33761172,\n",
       "       0.61298038, 0.23333731, 0.32922522, 0.88374698, 0.25492029,\n",
       "       0.69954973, 0.10894964, 0.24183263, 0.36587388, 0.19912051,\n",
       "       0.22715722, 0.10786094, 0.01444567, 0.64495889, 0.40008861,\n",
       "       0.21302607, 0.07111087, 0.38309563, 0.93756393, 0.31015602,\n",
       "       0.43900234, 0.68787704, 0.11047122, 0.11145981, 0.96282962,\n",
       "       0.3836066 , 0.08924124, 0.10111056, 0.40313745, 0.72725191,\n",
       "       0.8514446 , 0.41609501, 0.09363262, 0.91140457, 0.75757856,\n",
       "       0.25566697, 0.00881947, 0.07915149, 0.28944368, 0.15714124,\n",
       "       0.66085798, 0.10888909, 0.06898277, 0.5678431 , 0.63535536,\n",
       "       0.76107452, 0.11642384, 0.07151635, 0.20310181, 0.06607284,\n",
       "       0.25869888, 0.62393832, 0.19712616, 0.10051052, 0.59576219,\n",
       "       0.026804  , 0.13600331, 0.12402032, 0.08290091, 0.33065837,\n",
       "       0.15509556, 0.04637649, 0.36193242, 0.39315654, 0.18375769,\n",
       "       0.75703662, 0.09869963, 0.56141042, 0.05051336])"
      ]
     },
     "execution_count": 23,
     "metadata": {},
     "output_type": "execute_result"
    }
   ],
   "source": [
    "y_pred_proba = logmodel.predict_proba(x_test)[::,1]\n",
    "y_pred_proba"
   ]
  },
  {
   "cell_type": "code",
   "execution_count": 24,
   "metadata": {
    "scrolled": true
   },
   "outputs": [
    {
     "data": {
      "text/plain": [
       "array([[0.92594252, 0.07405748],\n",
       "       [0.8310277 , 0.1689723 ],\n",
       "       [0.95638736, 0.04361264],\n",
       "       [0.53573023, 0.46426977],\n",
       "       [0.71027483, 0.28972517],\n",
       "       [0.77270562, 0.22729438],\n",
       "       [0.97024805, 0.02975195],\n",
       "       [0.90291016, 0.09708984],\n",
       "       [0.22257677, 0.77742323],\n",
       "       [0.94975949, 0.05024051],\n",
       "       [0.78022468, 0.21977532],\n",
       "       [0.94484716, 0.05515284],\n",
       "       [0.25795096, 0.74204904],\n",
       "       [0.97023964, 0.02976036],\n",
       "       [0.95066881, 0.04933119],\n",
       "       [0.71352146, 0.28647854],\n",
       "       [0.72184329, 0.27815671],\n",
       "       [0.47475919, 0.52524081],\n",
       "       [0.86184452, 0.13815548],\n",
       "       [0.3159549 , 0.6840451 ],\n",
       "       [0.2554235 , 0.7445765 ],\n",
       "       [0.91729182, 0.08270818],\n",
       "       [0.56298258, 0.43701742],\n",
       "       [0.97199444, 0.02800556],\n",
       "       [0.7722739 , 0.2277261 ],\n",
       "       [0.83244809, 0.16755191],\n",
       "       [0.52348032, 0.47651968],\n",
       "       [0.91291025, 0.08708975],\n",
       "       [0.95056438, 0.04943562],\n",
       "       [0.93717674, 0.06282326],\n",
       "       [0.93654551, 0.06345449],\n",
       "       [0.996718  , 0.003282  ],\n",
       "       [0.97319817, 0.02680183],\n",
       "       [0.75857814, 0.24142186],\n",
       "       [0.29531109, 0.70468891],\n",
       "       [0.13076857, 0.86923143],\n",
       "       [0.82514436, 0.17485564],\n",
       "       [0.14442684, 0.85557316],\n",
       "       [0.84083498, 0.15916502],\n",
       "       [0.8501453 , 0.1498547 ],\n",
       "       [0.91131242, 0.08868758],\n",
       "       [0.12382514, 0.87617486],\n",
       "       [0.85687939, 0.14312061],\n",
       "       [0.54291761, 0.45708239],\n",
       "       [0.74814934, 0.25185066],\n",
       "       [0.77123796, 0.22876204],\n",
       "       [0.75626768, 0.24373232],\n",
       "       [0.88268897, 0.11731103],\n",
       "       [0.47727529, 0.52272471],\n",
       "       [0.0780991 , 0.9219009 ],\n",
       "       [0.95992992, 0.04007008],\n",
       "       [0.80845112, 0.19154888],\n",
       "       [0.35180485, 0.64819515],\n",
       "       [0.59308163, 0.40691837],\n",
       "       [0.78784718, 0.21215282],\n",
       "       [0.70647235, 0.29352765],\n",
       "       [0.84821548, 0.15178452],\n",
       "       [0.96809111, 0.03190889],\n",
       "       [0.33437709, 0.66562291],\n",
       "       [0.2888856 , 0.7111144 ],\n",
       "       [0.9411865 , 0.0588135 ],\n",
       "       [0.75957704, 0.24042296],\n",
       "       [0.96937316, 0.03062684],\n",
       "       [0.90996036, 0.09003964],\n",
       "       [0.022674  , 0.977326  ],\n",
       "       [0.89603692, 0.10396308],\n",
       "       [0.99816304, 0.00183696],\n",
       "       [0.18808314, 0.81191686],\n",
       "       [0.96300964, 0.03699036],\n",
       "       [0.59399011, 0.40600989],\n",
       "       [0.36601158, 0.63398842],\n",
       "       [0.95570126, 0.04429874],\n",
       "       [0.60917947, 0.39082053],\n",
       "       [0.60127613, 0.39872387],\n",
       "       [0.51402022, 0.48597978],\n",
       "       [0.79761079, 0.20238921],\n",
       "       [0.25903983, 0.74096017],\n",
       "       [0.52392601, 0.47607399],\n",
       "       [0.6854373 , 0.3145627 ],\n",
       "       [0.50728972, 0.49271028],\n",
       "       [0.6732582 , 0.3267418 ],\n",
       "       [0.56599809, 0.43400191],\n",
       "       [0.52532572, 0.47467428],\n",
       "       [0.53715302, 0.46284698],\n",
       "       [0.66238828, 0.33761172],\n",
       "       [0.38701962, 0.61298038],\n",
       "       [0.76666269, 0.23333731],\n",
       "       [0.67077478, 0.32922522],\n",
       "       [0.11625302, 0.88374698],\n",
       "       [0.74507971, 0.25492029],\n",
       "       [0.30045027, 0.69954973],\n",
       "       [0.89105036, 0.10894964],\n",
       "       [0.75816737, 0.24183263],\n",
       "       [0.63412612, 0.36587388],\n",
       "       [0.80087949, 0.19912051],\n",
       "       [0.77284278, 0.22715722],\n",
       "       [0.89213906, 0.10786094],\n",
       "       [0.98555433, 0.01444567],\n",
       "       [0.35504111, 0.64495889],\n",
       "       [0.59991139, 0.40008861],\n",
       "       [0.78697393, 0.21302607],\n",
       "       [0.92888913, 0.07111087],\n",
       "       [0.61690437, 0.38309563],\n",
       "       [0.06243607, 0.93756393],\n",
       "       [0.68984398, 0.31015602],\n",
       "       [0.56099766, 0.43900234],\n",
       "       [0.31212296, 0.68787704],\n",
       "       [0.88952878, 0.11047122],\n",
       "       [0.88854019, 0.11145981],\n",
       "       [0.03717038, 0.96282962],\n",
       "       [0.6163934 , 0.3836066 ],\n",
       "       [0.91075876, 0.08924124],\n",
       "       [0.89888944, 0.10111056],\n",
       "       [0.59686255, 0.40313745],\n",
       "       [0.27274809, 0.72725191],\n",
       "       [0.1485554 , 0.8514446 ],\n",
       "       [0.58390499, 0.41609501],\n",
       "       [0.90636738, 0.09363262],\n",
       "       [0.08859543, 0.91140457],\n",
       "       [0.24242144, 0.75757856],\n",
       "       [0.74433303, 0.25566697],\n",
       "       [0.99118053, 0.00881947],\n",
       "       [0.92084851, 0.07915149],\n",
       "       [0.71055632, 0.28944368],\n",
       "       [0.84285876, 0.15714124],\n",
       "       [0.33914202, 0.66085798],\n",
       "       [0.89111091, 0.10888909],\n",
       "       [0.93101723, 0.06898277],\n",
       "       [0.4321569 , 0.5678431 ],\n",
       "       [0.36464464, 0.63535536],\n",
       "       [0.23892548, 0.76107452],\n",
       "       [0.88357616, 0.11642384],\n",
       "       [0.92848365, 0.07151635],\n",
       "       [0.79689819, 0.20310181],\n",
       "       [0.93392716, 0.06607284],\n",
       "       [0.74130112, 0.25869888],\n",
       "       [0.37606168, 0.62393832],\n",
       "       [0.80287384, 0.19712616],\n",
       "       [0.89948948, 0.10051052],\n",
       "       [0.40423781, 0.59576219],\n",
       "       [0.973196  , 0.026804  ],\n",
       "       [0.86399669, 0.13600331],\n",
       "       [0.87597968, 0.12402032],\n",
       "       [0.91709909, 0.08290091],\n",
       "       [0.66934163, 0.33065837],\n",
       "       [0.84490444, 0.15509556],\n",
       "       [0.95362351, 0.04637649],\n",
       "       [0.63806758, 0.36193242],\n",
       "       [0.60684346, 0.39315654],\n",
       "       [0.81624231, 0.18375769],\n",
       "       [0.24296338, 0.75703662],\n",
       "       [0.90130037, 0.09869963],\n",
       "       [0.43858958, 0.56141042],\n",
       "       [0.94948664, 0.05051336]])"
      ]
     },
     "execution_count": 24,
     "metadata": {},
     "output_type": "execute_result"
    }
   ],
   "source": [
    "logmodel.predict_proba(x_test)"
   ]
  },
  {
   "cell_type": "code",
   "execution_count": 25,
   "metadata": {},
   "outputs": [
    {
     "data": {
      "text/plain": [
       "array([0., 0., 0., 1., 1., 1., 0., 0., 1., 0., 1., 0., 1., 0., 0., 1., 1.,\n",
       "       1., 0., 1., 1., 0., 1., 0., 1., 0., 1., 0., 0., 0., 0., 0., 0., 1.,\n",
       "       1., 1., 0., 1., 0., 0., 0., 1., 0., 1., 1., 1., 1., 0., 1., 1., 0.,\n",
       "       0., 1., 1., 1., 1., 0., 0., 1., 1., 0., 1., 0., 0., 1., 0., 0., 1.,\n",
       "       0., 1., 1., 0., 1., 1., 1., 1., 1., 1., 1., 1., 1., 1., 1., 1., 1.,\n",
       "       1., 1., 1., 1., 1., 1., 0., 1., 1., 0., 1., 0., 0., 1., 1., 1., 0.,\n",
       "       1., 1., 1., 1., 1., 0., 0., 1., 1., 0., 0., 1., 1., 1., 1., 0., 1.,\n",
       "       1., 1., 0., 0., 1., 0., 1., 0., 0., 1., 1., 1., 0., 0., 1., 0., 1.,\n",
       "       1., 0., 0., 1., 0., 0., 0., 0., 1., 0., 0., 1., 1., 0., 1., 0., 1.,\n",
       "       0.])"
      ]
     },
     "execution_count": 25,
     "metadata": {},
     "output_type": "execute_result"
    }
   ],
   "source": [
    "threshold = 0.2\n",
    "y_pred = (y_pred_proba > threshold).astype('float')\n",
    "y_pred"
   ]
  },
  {
   "cell_type": "code",
   "execution_count": 26,
   "metadata": {},
   "outputs": [
    {
     "data": {
      "text/plain": [
       "488    0\n",
       "413    0\n",
       "112    0\n",
       "222    0\n",
       "711    0\n",
       "      ..\n",
       "139    0\n",
       "178    0\n",
       "654    0\n",
       "110    1\n",
       "102    0\n",
       "Name: Outcome, Length: 154, dtype: int64"
      ]
     },
     "execution_count": 26,
     "metadata": {},
     "output_type": "execute_result"
    }
   ],
   "source": [
    "y_test"
   ]
  },
  {
   "cell_type": "code",
   "execution_count": 27,
   "metadata": {},
   "outputs": [
    {
     "data": {
      "image/png": "[encoded data removed]",
      "text/plain": [
       "<Figure size 216x216 with 1 Axes>"
      ]
     },
     "metadata": {},
     "output_type": "display_data"
    }
   ],
   "source": [
    "plot_conf_mat(y_test, y_pred)"
   ]
  },
  {
   "cell_type": "code",
   "execution_count": 28,
   "metadata": {},
   "outputs": [
    {
     "data": {
      "image/png": "[encoded data removed]",
      "text/plain": [
       "<Figure size 216x216 with 1 Axes>"
      ]
     },
     "metadata": {},
     "output_type": "display_data"
    }
   ],
   "source": [
    "threshold = 0.3\n",
    "y_pred = (y_pred_proba > threshold).astype('float')\n",
    "plot_conf_mat(y_test, y_pred)"
   ]
  },
  {
   "cell_type": "code",
   "execution_count": 29,
   "metadata": {
    "scrolled": true
   },
   "outputs": [
    {
     "data": {
      "text/plain": [
       "488    0\n",
       "413    0\n",
       "112    0\n",
       "222    0\n",
       "711    0\n",
       "      ..\n",
       "139    0\n",
       "178    0\n",
       "654    0\n",
       "110    1\n",
       "102    0\n",
       "Name: Outcome, Length: 154, dtype: int64"
      ]
     },
     "execution_count": 29,
     "metadata": {},
     "output_type": "execute_result"
    }
   ],
   "source": [
    "y_test\n"
   ]
  },
  {
   "cell_type": "code",
   "execution_count": 30,
   "metadata": {},
   "outputs": [
    {
     "data": {
      "text/plain": [
       "array([0.07405748, 0.1689723 , 0.04361264, 0.46426977, 0.28972517,\n",
       "       0.22729438, 0.02975195, 0.09708984, 0.77742323, 0.05024051,\n",
       "       0.21977532, 0.05515284, 0.74204904, 0.02976036, 0.04933119,\n",
       "       0.28647854, 0.27815671, 0.52524081, 0.13815548, 0.6840451 ,\n",
       "       0.7445765 , 0.08270818, 0.43701742, 0.02800556, 0.2277261 ,\n",
       "       0.16755191, 0.47651968, 0.08708975, 0.04943562, 0.06282326,\n",
       "       0.06345449, 0.003282  , 0.02680183, 0.24142186, 0.70468891,\n",
       "       0.86923143, 0.17485564, 0.85557316, 0.15916502, 0.1498547 ,\n",
       "       0.08868758, 0.87617486, 0.14312061, 0.45708239, 0.25185066,\n",
       "       0.22876204, 0.24373232, 0.11731103, 0.52272471, 0.9219009 ,\n",
       "       0.04007008, 0.19154888, 0.64819515, 0.40691837, 0.21215282,\n",
       "       0.29352765, 0.15178452, 0.03190889, 0.66562291, 0.7111144 ,\n",
       "       0.0588135 , 0.24042296, 0.03062684, 0.09003964, 0.977326  ,\n",
       "       0.10396308, 0.00183696, 0.81191686, 0.03699036, 0.40600989,\n",
       "       0.63398842, 0.04429874, 0.39082053, 0.39872387, 0.48597978,\n",
       "       0.20238921, 0.74096017, 0.47607399, 0.3145627 , 0.49271028,\n",
       "       0.3267418 , 0.43400191, 0.47467428, 0.46284698, 0.33761172,\n",
       "       0.61298038, 0.23333731, 0.32922522, 0.88374698, 0.25492029,\n",
       "       0.69954973, 0.10894964, 0.24183263, 0.36587388, 0.19912051,\n",
       "       0.22715722, 0.10786094, 0.01444567, 0.64495889, 0.40008861,\n",
       "       0.21302607, 0.07111087, 0.38309563, 0.93756393, 0.31015602,\n",
       "       0.43900234, 0.68787704, 0.11047122, 0.11145981, 0.96282962,\n",
       "       0.3836066 , 0.08924124, 0.10111056, 0.40313745, 0.72725191,\n",
       "       0.8514446 , 0.41609501, 0.09363262, 0.91140457, 0.75757856,\n",
       "       0.25566697, 0.00881947, 0.07915149, 0.28944368, 0.15714124,\n",
       "       0.66085798, 0.10888909, 0.06898277, 0.5678431 , 0.63535536,\n",
       "       0.76107452, 0.11642384, 0.07151635, 0.20310181, 0.06607284,\n",
       "       0.25869888, 0.62393832, 0.19712616, 0.10051052, 0.59576219,\n",
       "       0.026804  , 0.13600331, 0.12402032, 0.08290091, 0.33065837,\n",
       "       0.15509556, 0.04637649, 0.36193242, 0.39315654, 0.18375769,\n",
       "       0.75703662, 0.09869963, 0.56141042, 0.05051336])"
      ]
     },
     "execution_count": 30,
     "metadata": {},
     "output_type": "execute_result"
    }
   ],
   "source": [
    "y_pred_proba"
   ]
  },
  {
   "cell_type": "code",
   "execution_count": 39,
   "metadata": {},
   "outputs": [
    {
     "data": {
      "image/png": "[encoded data removed]",
      "text/plain": [
       "<Figure size 432x288 with 1 Axes>"
      ]
     },
     "metadata": {},
     "output_type": "display_data"
    }
   ],
   "source": [
    "from sklearn.metrics import roc_auc_score,roc_curve\n",
    "fpr, tpr, _ = roc_curve(y_test,  y_pred_proba)\n",
    "#roc_curve için içine y_test ve tahmin edilen prob değerlerini veriyoruz.\n",
    "\n",
    "auc = roc_auc_score(y_test, y_pred_proba)\n",
    "plt.plot(fpr,tpr,label=\"data 1, auc=\"+str(auc))\n",
    "plt.legend(loc=4)\n",
    "plt.show()"
   ]
  },
  {
   "cell_type": "code",
   "execution_count": 32,
   "metadata": {},
   "outputs": [],
   "source": [
    "df = pd.read_csv('diabetes.csv')\n",
    "#check data has been read in properly"
   ]
  },
  {
   "cell_type": "code",
   "execution_count": 44,
   "metadata": {},
   "outputs": [],
   "source": [
    "X=df[['Glucose','BMI']]\n",
    "y = df['Outcome']"
   ]
  },
  {
   "cell_type": "code",
   "execution_count": 45,
   "metadata": {},
   "outputs": [],
   "source": [
    "# Split data into training and test sets\n",
    "X_train, X_test , y_train, y_test = train_test_split(X, y, test_size=0.2, random_state=1,stratify=y)"
   ]
  },
  {
   "cell_type": "code",
   "execution_count": 46,
   "metadata": {},
   "outputs": [
    {
     "data": {
      "text/plain": [
       "LogisticRegression()"
      ]
     },
     "execution_count": 46,
     "metadata": {},
     "output_type": "execute_result"
    }
   ],
   "source": [
    "classifier=LogisticRegression()\n",
    "classifier.fit(X_train,y_train)"
   ]
  },
  {
   "cell_type": "code",
   "execution_count": 47,
   "metadata": {},
   "outputs": [],
   "source": [
    "#Decision boundry çizdirilen fonksiyon\n",
    "def plot_dec_boundary(estimator,X,Y,h):\n",
    "    # Plot the decision boundary. For that, we will assign a color to each\n",
    "    # point in the mesh [x_min, x_max]x[y_min, y_max].\n",
    "    X=np.array(X)\n",
    "    x_min, x_max = X[:, 0].min() - .5, X[:, 0].max() + .5\n",
    "    y_min, y_max = X[:, 1].min() - .5, X[:, 1].max() + .5\n",
    "    xx, yy = np.meshgrid(np.arange(x_min, x_max, h), np.arange(y_min, y_max, h))\n",
    "    Z = estimator.predict(np.c_[xx.ravel(), yy.ravel()])\n",
    "\n",
    "    # Put the result into a color plot\n",
    "    Z = Z.reshape(xx.shape)\n",
    "    plt.figure(1, figsize=(4, 3))\n",
    "    plt.pcolormesh(xx, yy, Z, cmap=plt.cm.Paired)\n",
    "\n",
    "    # Plot also the points\n",
    "    plt.scatter(X[:, 0], X[:, 1], c=Y, edgecolors='k', cmap=plt.cm.Paired)\n",
    "    plt.xlabel('x1')\n",
    "    plt.ylabel('x2')\n",
    "\n",
    "    plt.xlim(xx.min(), xx.max())\n",
    "    plt.ylim(yy.min(), yy.max())\n",
    "    plt.xticks(())\n",
    "    plt.yticks(())\n",
    "    plt.show()"
   ]
  },
  {
   "cell_type": "code",
   "execution_count": 48,
   "metadata": {},
   "outputs": [
    {
     "name": "stderr",
     "output_type": "stream",
     "text": [
      "<ipython-input-47-330ac0de9a9b>:14: MatplotlibDeprecationWarning: shading='flat' when X and Y have the same dimensions as C is deprecated since 3.3.  Either specify the corners of the quadrilaterals with X and Y, or pass shading='auto', 'nearest' or 'gouraud', or set rcParams['pcolor.shading'].  This will become an error two minor releases later.\n",
      "  plt.pcolormesh(xx, yy, Z, cmap=plt.cm.Paired)\n"
     ]
    },
    {
     "data": {
      "image/png": "[encoded data removed]",
      "text/plain": [
       "<Figure size 288x216 with 1 Axes>"
      ]
     },
     "metadata": {},
     "output_type": "display_data"
    }
   ],
   "source": [
    "plot_dec_boundary(classifier,X_train,y_train,h=0.25)"
   ]
  },
  {
   "cell_type": "code",
   "execution_count": 43,
   "metadata": {},
   "outputs": [
    {
     "name": "stderr",
     "output_type": "stream",
     "text": [
      "<ipython-input-41-330ac0de9a9b>:14: MatplotlibDeprecationWarning: shading='flat' when X and Y have the same dimensions as C is deprecated since 3.3.  Either specify the corners of the quadrilaterals with X and Y, or pass shading='auto', 'nearest' or 'gouraud', or set rcParams['pcolor.shading'].  This will become an error two minor releases later.\n",
      "  plt.pcolormesh(xx, yy, Z, cmap=plt.cm.Paired)\n"
     ]
    },
    {
     "data": {
      "image/png": "[encoded data removed]",
      "text/plain": [
       "<Figure size 288x216 with 1 Axes>"
      ]
     },
     "metadata": {},
     "output_type": "display_data"
    }
   ],
   "source": [
    "from sklearn.neighbors import KNeighborsClassifier\n",
    "classifier=KNeighborsClassifier(n_neighbors=3)\n",
    "classifier.fit(X_train,y_train)\n",
    "plot_dec_boundary(classifier,X_train,y_train,h=0.25)"
   ]
  },
  {
   "cell_type": "code",
   "execution_count": null,
   "metadata": {},
   "outputs": [],
   "source": []
  },
  {
   "cell_type": "code",
   "execution_count": null,
   "metadata": {},
   "outputs": [],
   "source": []
  }
 ],
 "metadata": {
  "kernelspec": {
   "display_name": "Python 3",
   "language": "python",
   "name": "python3"
  },
  "language_info": {
   "codemirror_mode": {
    "name": "ipython",
    "version": 3
   },
   "file_extension": ".py",
   "mimetype": "text/x-python",
   "name": "python",
   "nbconvert_exporter": "python",
   "pygments_lexer": "ipython3",
   "version": "3.8.5"
  }
 },
 "nbformat": 4,
 "nbformat_minor": 1
}
