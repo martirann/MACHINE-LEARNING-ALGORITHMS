{
 "cells": [
  {
   "cell_type": "code",
   "execution_count": 1,
   "metadata": {},
   "outputs": [],
   "source": [
    "import numpy as np\n",
    "import matplotlib.pyplot as plt\n",
    "import pandas as pd\n",
    "from sklearn.linear_model import LinearRegression\n",
    "np.random.seed(0)"
   ]
  },
  {
   "cell_type": "code",
   "execution_count": 2,
   "metadata": {},
   "outputs": [
    {
     "data": {
      "text/html": [
       "<div>\n",
       "<style scoped>\n",
       "    .dataframe tbody tr th:only-of-type {\n",
       "        vertical-align: middle;\n",
       "    }\n",
       "\n",
       "    .dataframe tbody tr th {\n",
       "        vertical-align: top;\n",
       "    }\n",
       "\n",
       "    .dataframe thead th {\n",
       "        text-align: right;\n",
       "    }\n",
       "</style>\n",
       "<table border=\"1\" class=\"dataframe\">\n",
       "  <thead>\n",
       "    <tr style=\"text-align: right;\">\n",
       "      <th></th>\n",
       "      <th>mpg</th>\n",
       "      <th>horsepower</th>\n",
       "    </tr>\n",
       "  </thead>\n",
       "  <tbody>\n",
       "    <tr>\n",
       "      <th>19</th>\n",
       "      <td>26.0</td>\n",
       "      <td>46</td>\n",
       "    </tr>\n",
       "    <tr>\n",
       "      <th>101</th>\n",
       "      <td>26.0</td>\n",
       "      <td>46</td>\n",
       "    </tr>\n",
       "    <tr>\n",
       "      <th>324</th>\n",
       "      <td>43.4</td>\n",
       "      <td>48</td>\n",
       "    </tr>\n",
       "    <tr>\n",
       "      <th>323</th>\n",
       "      <td>44.3</td>\n",
       "      <td>48</td>\n",
       "    </tr>\n",
       "    <tr>\n",
       "      <th>242</th>\n",
       "      <td>43.1</td>\n",
       "      <td>48</td>\n",
       "    </tr>\n",
       "    <tr>\n",
       "      <th>...</th>\n",
       "      <td>...</td>\n",
       "      <td>...</td>\n",
       "    </tr>\n",
       "    <tr>\n",
       "      <th>6</th>\n",
       "      <td>14.0</td>\n",
       "      <td>220</td>\n",
       "    </tr>\n",
       "    <tr>\n",
       "      <th>8</th>\n",
       "      <td>14.0</td>\n",
       "      <td>225</td>\n",
       "    </tr>\n",
       "    <tr>\n",
       "      <th>94</th>\n",
       "      <td>12.0</td>\n",
       "      <td>225</td>\n",
       "    </tr>\n",
       "    <tr>\n",
       "      <th>13</th>\n",
       "      <td>14.0</td>\n",
       "      <td>225</td>\n",
       "    </tr>\n",
       "    <tr>\n",
       "      <th>115</th>\n",
       "      <td>16.0</td>\n",
       "      <td>230</td>\n",
       "    </tr>\n",
       "  </tbody>\n",
       "</table>\n",
       "<p>392 rows × 2 columns</p>\n",
       "</div>"
      ],
      "text/plain": [
       "      mpg  horsepower\n",
       "19   26.0          46\n",
       "101  26.0          46\n",
       "324  43.4          48\n",
       "323  44.3          48\n",
       "242  43.1          48\n",
       "..    ...         ...\n",
       "6    14.0         220\n",
       "8    14.0         225\n",
       "94   12.0         225\n",
       "13   14.0         225\n",
       "115  16.0         230\n",
       "\n",
       "[392 rows x 2 columns]"
      ]
     },
     "execution_count": 2,
     "metadata": {},
     "output_type": "execute_result"
    }
   ],
   "source": [
    "auto = pd.read_csv('Auto.csv')\n",
    "#check data has been read in properly\n",
    "auto=auto.sort_values(by='horsepower')\n",
    "auto"
   ]
  },
  {
   "cell_type": "code",
   "execution_count": 3,
   "metadata": {},
   "outputs": [],
   "source": [
    "y=auto['mpg'].values\n",
    "x=auto['horsepower'].values.reshape(-1,1)"
   ]
  },
  {
   "cell_type": "code",
   "execution_count": 4,
   "metadata": {},
   "outputs": [],
   "source": [
    "\n",
    "\n",
    "from sklearn.model_selection import train_test_split\n",
    "X_train, X_test, Y_train, Y_test = train_test_split(x, y, test_size=0.2, random_state=5)"
   ]
  },
  {
   "cell_type": "code",
   "execution_count": 5,
   "metadata": {},
   "outputs": [
    {
     "data": {
      "text/plain": [
       "313"
      ]
     },
     "execution_count": 5,
     "metadata": {},
     "output_type": "execute_result"
    }
   ],
   "source": [
    "len(X_train)\n"
   ]
  },
  {
   "cell_type": "code",
   "execution_count": 6,
   "metadata": {
    "scrolled": true
   },
   "outputs": [
    {
     "data": {
      "text/plain": [
       "array([32. , 14. , 26. , 18.5, 28. , 12. , 14. , 23. , 15. , 23.9, 13. ,\n",
       "       13. , 15. , 16. , 32.2, 25.5, 24. , 38.1, 34.7, 31. , 28. , 28. ,\n",
       "       19.2, 15. , 29. , 33. , 17.6, 17.5, 12. , 21. , 26. , 14.5, 29. ,\n",
       "       18. , 22. , 16. , 13. , 23. , 20.6, 39. , 19. , 15.5, 27.9, 14. ,\n",
       "       17. , 31.6, 28. , 36.4, 26.6, 32.3, 16. , 13. , 35.1, 37.3, 15. ,\n",
       "       18. , 29. , 14. , 31. , 24. , 30.5, 12. , 33. , 39.4, 37. , 16. ,\n",
       "       33. , 36.1, 34.5, 22.5, 11. , 36. , 30. , 30.5, 43.1, 14. , 22. ,\n",
       "       19.2, 20. , 14. , 14. , 19. , 15. , 21. , 28. , 36. , 20.5, 10. ,\n",
       "       15. , 36.1, 24. , 27. , 19. , 26. , 19. , 22.3, 16.5, 43.4, 26. ,\n",
       "       27.2, 38. , 44.3, 15. , 34.1, 21.5, 12. , 20.2, 22. , 25. , 28. ,\n",
       "       13. , 21.5, 27. , 13. , 17.5, 23. , 24. , 25. , 27. , 20. , 26. ,\n",
       "       35.7, 33.5, 26.5, 25. , 31.5, 31. , 18. , 16. , 14. , 27. ,  9. ,\n",
       "       26.6, 32. , 13. , 23.2, 14. , 15.5, 16. , 18. , 23.7, 16. , 32. ,\n",
       "       20. , 17.7, 34.2, 33.7, 24. , 25. , 25.4, 15. , 17.5, 22. , 21.5,\n",
       "       25.5, 16. , 18. , 12. , 31. , 30. , 14. , 15. , 25. , 27. , 31.5,\n",
       "       24.5, 16.5, 27. , 35. , 26. , 22. , 14. , 37. , 27.2, 17. , 20.5,\n",
       "       32. , 13. , 30.7, 19.4, 16. , 13. , 15. , 21. , 26.8, 28.8, 24. ,\n",
       "       21.1, 26.4, 31. , 19.8, 10. , 14. , 35. , 26. , 18. , 16. , 29. ,\n",
       "       26. , 11. , 22.4, 15.5, 17. , 17.6, 15. , 24.3, 46.6, 20.3, 36. ,\n",
       "       25. , 37.7, 13. , 19. , 24. , 36. , 18.1, 34. , 29.5, 19. , 19. ,\n",
       "       31.8, 20. , 19. , 25. , 24. , 37. , 20. , 15. , 28.4, 19. , 13. ,\n",
       "       25.1, 29. , 13. , 19.9, 32.1, 17. , 23. , 15. , 13. , 19.1, 21. ,\n",
       "       29.9, 40.8, 22. , 20. , 28. , 28. , 13. , 18.2, 30. , 21. , 12. ,\n",
       "       39.1, 24. , 27. , 18. , 18.1, 22. , 30.9, 26. , 14. , 20. , 24. ,\n",
       "       11. , 29. , 23.8, 18. , 18.6, 21. , 34.3, 13. , 16. , 23.5, 24.2,\n",
       "       15.5, 27. , 18. , 28. , 21. , 19.4, 29. , 27. , 25.4, 22. , 38. ,\n",
       "       13. , 31. , 19.2, 25. , 23. , 32.4, 34.4, 34. , 18. , 27.5, 26. ,\n",
       "       37.2, 32.4, 26. , 20.5, 32.8, 23. , 23. , 27.4, 32.9, 19. , 44. ,\n",
       "       31.9, 30. , 25.8, 23. , 14. ])"
      ]
     },
     "execution_count": 6,
     "metadata": {},
     "output_type": "execute_result"
    }
   ],
   "source": [
    "Y_train"
   ]
  },
  {
   "cell_type": "markdown",
   "metadata": {},
   "source": [
    "Şimdi ayırdığım X_train ve Y_train setini tekrar train ve validation setine bölüyorum\n"
   ]
  },
  {
   "cell_type": "code",
   "execution_count": 7,
   "metadata": {},
   "outputs": [],
   "source": [
    "from sklearn.model_selection import train_test_split\n",
    "X_trainv, X_valid, Y_trainv, Y_valid = train_test_split(X_train, Y_train, test_size=0.5, random_state=7)\n",
    "\n",
    "#oormalde 0.5 olarak ayrılmaz daha büyük bir kısmı train için alınır."
   ]
  },
  {
   "cell_type": "code",
   "execution_count": 8,
   "metadata": {},
   "outputs": [
    {
     "data": {
      "text/plain": [
       "156"
      ]
     },
     "execution_count": 8,
     "metadata": {},
     "output_type": "execute_result"
    }
   ],
   "source": [
    "len(Y_trainv)"
   ]
  },
  {
   "cell_type": "code",
   "execution_count": 9,
   "metadata": {},
   "outputs": [],
   "source": [
    "from sklearn.preprocessing import PolynomialFeatures\n",
    "from sklearn.metrics import mean_squared_error"
   ]
  },
  {
   "cell_type": "code",
   "execution_count": null,
   "metadata": {},
   "outputs": [],
   "source": [
    "def create_polynomial_regression_model(degree):\n",
    "  \"Creates a polynomial regression model for the given degree\"\n",
    "#İlk olarak create_polynomial_regression_model(degree) şeklinde fonksiyon tanımladık.Degree değişkeni \n",
    "#sonra    poly_features adında bir instances oluşturduk.\n",
    "  poly_features = PolynomialFeatures(degree=degree,include_bias=False)\n",
    "  \n",
    "  # transforms the existing features to higher degree features.\n",
    "  X_trainv_poly = poly_features.fit_transform(X_trainv)\n",
    "#ayırdığımız trainv datasetini .fit_transform fonk ile 2,3 veya 4.dereceden  \n",
    "#polynomial feature olarak tranform ettik ve  X_trainv_poly adını verdik.\n",
    "  \n",
    "  # fit the transformed features to Linear Regression\n",
    "  poly_model = LinearRegression()\n",
    "  poly_model.fit(X_trainv_poly, Y_trainv)\n",
    "#poly_model şeklinde Linear regression instance oluşturduk.\n",
    "#Şimdi transform ettiğimiz trainv ile Y_trainv setini eğitiyoruz.\n",
    "  \n",
    "  # predicting on training data-set\n",
    "  Y_trainv_predicted = poly_model.predict(X_trainv_poly)\n",
    " #  transform ettiğimiz trainv setinden prediction yaptırıyorum.\n",
    "  \n",
    "  # predicting on validation data-set\n",
    "  Y_valid_predict = poly_model.predict(poly_features.fit_transform(X_valid))\n",
    "#Validation set (X_valid) üzerinden tahmin yaptırıyorum.\n",
    "#Tahmin yaptırmadan validation setinide polynomial olarak transform etmem gerekiyor.\n",
    "  \n",
    "  # evaluating the model on training dataset\n",
    "  mse_trainv = mean_squared_error(Y_trainv, Y_trainv_predicted)\n",
    "#Y_trainv seti ile Y_trainv_predicted arasında mean squared errora bakıyoruz.\n",
    "  \n",
    "  # evaluating the model on validation dataset\n",
    "  mse_valid = mean_squared_error(Y_valid, Y_valid_predict)\n",
    "    #Y_valid seti ile Y_valid_predict arasında mean squared errora bakıyoruz.\n",
    "\n",
    "#Burada sadece ayırdığım trainv setlerini fit ettik yani eğittik\n",
    "#Yani valid setine test gibi davrandık.En son ikisindede mse ye baktık.\n",
    "#Şimdi valid setindeki msesi en düşük olana göre degree ye karar verebilirim.\n",
    "  \n",
    "   \n",
    "  return (mse_trainv,mse_valid,degree)"
   ]
  },
  {
   "cell_type": "code",
   "execution_count": 11,
   "metadata": {},
   "outputs": [
    {
     "data": {
      "text/html": [
       "<div>\n",
       "<style scoped>\n",
       "    .dataframe tbody tr th:only-of-type {\n",
       "        vertical-align: middle;\n",
       "    }\n",
       "\n",
       "    .dataframe tbody tr th {\n",
       "        vertical-align: top;\n",
       "    }\n",
       "\n",
       "    .dataframe thead th {\n",
       "        text-align: right;\n",
       "    }\n",
       "</style>\n",
       "<table border=\"1\" class=\"dataframe\">\n",
       "  <thead>\n",
       "    <tr style=\"text-align: right;\">\n",
       "      <th></th>\n",
       "      <th>Training Error(Trainv)</th>\n",
       "      <th>Validation Error</th>\n",
       "      <th>Degree</th>\n",
       "    </tr>\n",
       "  </thead>\n",
       "  <tbody>\n",
       "    <tr>\n",
       "      <th>0</th>\n",
       "      <td>19.689741</td>\n",
       "      <td>26.998717</td>\n",
       "      <td>1</td>\n",
       "    </tr>\n",
       "    <tr>\n",
       "      <th>1</th>\n",
       "      <td>16.720651</td>\n",
       "      <td>19.473031</td>\n",
       "      <td>2</td>\n",
       "    </tr>\n",
       "    <tr>\n",
       "      <th>2</th>\n",
       "      <td>16.716183</td>\n",
       "      <td>19.548135</td>\n",
       "      <td>3</td>\n",
       "    </tr>\n",
       "    <tr>\n",
       "      <th>3</th>\n",
       "      <td>16.376321</td>\n",
       "      <td>20.597873</td>\n",
       "      <td>4</td>\n",
       "    </tr>\n",
       "    <tr>\n",
       "      <th>4</th>\n",
       "      <td>15.998522</td>\n",
       "      <td>20.625359</td>\n",
       "      <td>5</td>\n",
       "    </tr>\n",
       "    <tr>\n",
       "      <th>5</th>\n",
       "      <td>15.502087</td>\n",
       "      <td>22.095768</td>\n",
       "      <td>6</td>\n",
       "    </tr>\n",
       "    <tr>\n",
       "      <th>6</th>\n",
       "      <td>15.979334</td>\n",
       "      <td>21.382217</td>\n",
       "      <td>7</td>\n",
       "    </tr>\n",
       "  </tbody>\n",
       "</table>\n",
       "</div>"
      ],
      "text/plain": [
       "   Training Error(Trainv)  Validation Error  Degree\n",
       "0               19.689741         26.998717       1\n",
       "1               16.720651         19.473031       2\n",
       "2               16.716183         19.548135       3\n",
       "3               16.376321         20.597873       4\n",
       "4               15.998522         20.625359       5\n",
       "5               15.502087         22.095768       6\n",
       "6               15.979334         21.382217       7"
      ]
     },
     "execution_count": 11,
     "metadata": {},
     "output_type": "execute_result"
    }
   ],
   "source": [
    "a=[]\n",
    "for i in range(1,8):\n",
    "    a.append(create_polynomial_regression_model(i))\n",
    "df = pd.DataFrame(a,columns=['Training Error(Trainv)','Validation Error','Degree'])\n",
    "df\n",
    "#Bir for döngüsü yazdık derece 1 den 8 e kadar değişiyor.Ve boş listeye atıyoruz.\n",
    "#Son olarak data frame dönüştürüyoruz."
   ]
  },
  {
   "cell_type": "code",
   "execution_count": 12,
   "metadata": {},
   "outputs": [
    {
     "data": {
      "text/plain": [
       "<matplotlib.legend.Legend at 0x7ff614829790>"
      ]
     },
     "execution_count": 12,
     "metadata": {},
     "output_type": "execute_result"
    },
    {
     "data": {
      "image/png": "[encoded data removed]",
      "text/plain": [
       "<Figure size 432x288 with 1 Axes>"
      ]
     },
     "metadata": {
      "needs_background": "light"
     },
     "output_type": "display_data"
    }
   ],
   "source": [
    "fig=plt.figure()\n",
    "ax = fig.add_subplot(1, 1, 1)\n",
    "ax.plot(df['Degree'].values,df['Training Error(Trainv)'].values, label = 'Training Error(Trainv)')\n",
    "ax.plot(df['Degree'].values,df['Validation Error'].values,label = 'Validation Error')\n",
    "ax.set_xlabel('Degree')\n",
    "ax.set_ylabel('Errors')\n",
    "ax.tick_params(axis='x', labelsize=8)\n",
    "ax.legend(loc='best')"
   ]
  },
  {
   "cell_type": "code",
   "execution_count": 13,
   "metadata": {},
   "outputs": [
    {
     "name": "stdout",
     "output_type": "stream",
     "text": [
      "23.777949113293655\n"
     ]
    }
   ],
   "source": [
    "#Let's finally fit a model with a chosen order of polynomial\n",
    "#Artık 2. derecenin valid de en düşük mse olduğuna karar verdik.\n",
    "poly_features = PolynomialFeatures(degree=2,include_bias=False)\n",
    "#X_tran setini (X_trainv + X_valid) 2. dereceden poly hale transform ediyorum.\n",
    "X_train_poly = poly_features.fit_transform(X_train)\n",
    "#Linear regression instance oluşturuyoruz.\n",
    "poly_model = LinearRegression()\n",
    "\n",
    "poly_model.fit(X_train_poly, Y_train)\n",
    "#Ve X_train_poly, Y_train eğitiyoruz.\n",
    "X_test_poly = poly_features.fit_transform(X_test)\n",
    "#En son hiç göstermediğim test setini devreye sokmadan önce 2. dereceden poly hale transform ediyorum.\n",
    "Y_test_predict=poly_model.predict(X_test_poly)\n",
    "#Artık X_test_poly üzerinden predict yapabilirim.\n",
    "mse_test = mean_squared_error(Y_test, Y_test_predict)\n",
    "#En son Y_test, Y_test_predict için mse ye bakıyorum .Bu benim en son söyleyeceğim skor olur.\n",
    "print(mse_test)"
   ]
  },
  {
   "cell_type": "code",
   "execution_count": 15,
   "metadata": {},
   "outputs": [
    {
     "data": {
      "text/plain": [
       "Text(0, 0.5, 'Errors')"
      ]
     },
     "execution_count": 15,
     "metadata": {},
     "output_type": "execute_result"
    },
    {
     "data": {
      "image/png": "[encoded data removed]",
      "text/plain": [
       "<Figure size 432x288 with 1 Axes>"
      ]
     },
     "metadata": {
      "needs_background": "light"
     },
     "output_type": "display_data"
    }
   ],
   "source": [
    "fig=plt.figure()\n",
    "ax = fig.add_subplot(1, 1, 1)\n",
    "for j in range(1,11):\n",
    "    X_trainv, X_valid, Y_trainv, Y_valid = train_test_split(X_train, Y_train, test_size=0.5, random_state=j)\n",
    "    \n",
    "#random statei 1 den 11 e kadar değiştirip 10 farklı parçalama yapıyorum.Sonra 7 farklı polinomu deniyoruz.\n",
    "    a=[]\n",
    "    for i in range(1,8):\n",
    "        a.append(create_polynomial_regression_model(i))\n",
    "    df = pd.DataFrame(a,columns=['Training Error(Trainv)','Validation Error','Degree'])\n",
    "    ax.plot(df['Degree'].values,df['Validation Error'].values, label = 'Training Error')\n",
    "ax.set_xlabel('Degree')\n",
    "ax.set_ylabel('Errors')"
   ]
  },
  {
   "cell_type": "code",
   "execution_count": 16,
   "metadata": {},
   "outputs": [
    {
     "name": "stdout",
     "output_type": "stream",
     "text": [
      "23.777949113293655\n"
     ]
    }
   ],
   "source": [
    "#Let's finally fit a model with a chosen order of polynomial\n",
    "poly_features = PolynomialFeatures(degree=2,include_bias=False)\n",
    "X_train_poly = poly_features.fit_transform(X_train)\n",
    "poly_model = LinearRegression()\n",
    "poly_model.fit(X_train_poly, Y_train)\n",
    "X_test_poly = poly_features.fit_transform(X_test)\n",
    "Y_test_predict=poly_model.predict(X_test_poly)\n",
    "mse_test = mean_squared_error(Y_test, Y_test_predict)\n",
    "print(mse_test)"
   ]
  },
  {
   "cell_type": "code",
   "execution_count": 17,
   "metadata": {},
   "outputs": [
    {
     "name": "stdout",
     "output_type": "stream",
     "text": [
      "[2 3 4] [1]\n",
      "[1 3 4] [2]\n",
      "[1 2 4] [3]\n",
      "[1 2 3] [4]\n"
     ]
    }
   ],
   "source": [
    "from sklearn.model_selection import LeaveOneOut\n",
    "loo = LeaveOneOut()\n",
    "X = np.array([1, 2, 3, 4])\n",
    "Y = np.array([5 ,6, 7, 8])\n",
    "for train_index, validation_index in loo.split(X):\n",
    "    X_train, X_valid = X[train_index], X[validation_index]\n",
    "    Y_train, Y_valid = Y[train_index], Y[validation_index]\n",
    "    print(X_train, X_valid)"
   ]
  },
  {
   "cell_type": "code",
   "execution_count": 21,
   "metadata": {},
   "outputs": [
    {
     "name": "stdout",
     "output_type": "stream",
     "text": [
      "[6 7 8] [5]\n",
      "[5 7 8] [6]\n",
      "[5 6 8] [7]\n",
      "[5 6 7] [8]\n"
     ]
    }
   ],
   "source": [
    "from sklearn.model_selection import LeaveOneOut\n",
    "loo = LeaveOneOut()\n",
    "X = np.array([1, 2, 3, 4])\n",
    "Y = np.array([5 ,6, 7, 8])\n",
    "for train_index, validation_index in loo.split(Y):\n",
    "    X_train, X_valid = X[train_index], X[validation_index]\n",
    "    Y_train, Y_valid = Y[train_index], Y[validation_index]\n",
    "    print(Y_train, Y_valid)"
   ]
  },
  {
   "cell_type": "code",
   "execution_count": 23,
   "metadata": {},
   "outputs": [
    {
     "name": "stdout",
     "output_type": "stream",
     "text": [
      "[1 2 3] [4]\n"
     ]
    }
   ],
   "source": [
    "loo.split(X)\n",
    "print(X_train, X_valid)"
   ]
  },
  {
   "cell_type": "code",
   "execution_count": 25,
   "metadata": {},
   "outputs": [],
   "source": [
    "y=np.array(auto['mpg'].values)\n",
    "x=np.array(auto['horsepower'].values.reshape(-1,1))"
   ]
  },
  {
   "cell_type": "code",
   "execution_count": 26,
   "metadata": {},
   "outputs": [],
   "source": [
    "X_train, X_test, Y_train, Y_test = train_test_split(x, y, test_size=0.2, random_state=5)"
   ]
  },
  {
   "cell_type": "code",
   "execution_count": 27,
   "metadata": {},
   "outputs": [
    {
     "data": {
      "text/plain": [
       "Training Error      17.717221\n",
       "Validation Error    18.329240\n",
       "dtype: float64"
      ]
     },
     "execution_count": 27,
     "metadata": {},
     "output_type": "execute_result"
    }
   ],
   "source": [
    "from sklearn.model_selection import LeaveOneOut\n",
    "loo = LeaveOneOut()\n",
    "LeaveOneOutErrors=[]\n",
    "for train_index, validation_index in loo.split(X_train):\n",
    "#X_traini tekrar train ve valid olarak ayırdık.\n",
    "    X_trainv, X_valid = X_train[train_index], X_train[validation_index]\n",
    "    Y_trainv, Y_valid = Y_train[train_index], Y_train[validation_index]\n",
    "    LeaveOneOutErrors.append(create_polynomial_regression_model(4))\n",
    "df = pd.DataFrame (LeaveOneOutErrors,columns=['Training Error','Validation Error','Degree'])\n",
    "LeaveOneOutCV = df[['Training Error','Validation Error']].mean()  \n",
    "LeaveOneOutCV  "
   ]
  },
  {
   "cell_type": "code",
   "execution_count": 28,
   "metadata": {},
   "outputs": [
    {
     "data": {
      "text/html": [
       "<div>\n",
       "<style scoped>\n",
       "    .dataframe tbody tr th:only-of-type {\n",
       "        vertical-align: middle;\n",
       "    }\n",
       "\n",
       "    .dataframe tbody tr th {\n",
       "        vertical-align: top;\n",
       "    }\n",
       "\n",
       "    .dataframe thead th {\n",
       "        text-align: right;\n",
       "    }\n",
       "</style>\n",
       "<table border=\"1\" class=\"dataframe\">\n",
       "  <thead>\n",
       "    <tr style=\"text-align: right;\">\n",
       "      <th></th>\n",
       "      <th>Training Error</th>\n",
       "      <th>Validation Error</th>\n",
       "      <th>Degree</th>\n",
       "    </tr>\n",
       "  </thead>\n",
       "  <tbody>\n",
       "    <tr>\n",
       "      <th>0</th>\n",
       "      <td>17.773581</td>\n",
       "      <td>0.434358</td>\n",
       "      <td>4</td>\n",
       "    </tr>\n",
       "    <tr>\n",
       "      <th>1</th>\n",
       "      <td>17.771648</td>\n",
       "      <td>1.223944</td>\n",
       "      <td>4</td>\n",
       "    </tr>\n",
       "    <tr>\n",
       "      <th>2</th>\n",
       "      <td>17.702653</td>\n",
       "      <td>22.750464</td>\n",
       "      <td>4</td>\n",
       "    </tr>\n",
       "    <tr>\n",
       "      <th>3</th>\n",
       "      <td>17.765161</td>\n",
       "      <td>3.085358</td>\n",
       "      <td>4</td>\n",
       "    </tr>\n",
       "    <tr>\n",
       "      <th>4</th>\n",
       "      <td>17.741839</td>\n",
       "      <td>10.397366</td>\n",
       "      <td>4</td>\n",
       "    </tr>\n",
       "    <tr>\n",
       "      <th>...</th>\n",
       "      <td>...</td>\n",
       "      <td>...</td>\n",
       "      <td>...</td>\n",
       "    </tr>\n",
       "    <tr>\n",
       "      <th>308</th>\n",
       "      <td>17.764734</td>\n",
       "      <td>3.216237</td>\n",
       "      <td>4</td>\n",
       "    </tr>\n",
       "    <tr>\n",
       "      <th>309</th>\n",
       "      <td>17.754606</td>\n",
       "      <td>6.394813</td>\n",
       "      <td>4</td>\n",
       "    </tr>\n",
       "    <tr>\n",
       "      <th>310</th>\n",
       "      <td>17.767591</td>\n",
       "      <td>2.313419</td>\n",
       "      <td>4</td>\n",
       "    </tr>\n",
       "    <tr>\n",
       "      <th>311</th>\n",
       "      <td>17.773990</td>\n",
       "      <td>0.304625</td>\n",
       "      <td>4</td>\n",
       "    </tr>\n",
       "    <tr>\n",
       "      <th>312</th>\n",
       "      <td>17.774822</td>\n",
       "      <td>0.044233</td>\n",
       "      <td>4</td>\n",
       "    </tr>\n",
       "  </tbody>\n",
       "</table>\n",
       "<p>313 rows × 3 columns</p>\n",
       "</div>"
      ],
      "text/plain": [
       "     Training Error  Validation Error  Degree\n",
       "0         17.773581          0.434358       4\n",
       "1         17.771648          1.223944       4\n",
       "2         17.702653         22.750464       4\n",
       "3         17.765161          3.085358       4\n",
       "4         17.741839         10.397366       4\n",
       "..              ...               ...     ...\n",
       "308       17.764734          3.216237       4\n",
       "309       17.754606          6.394813       4\n",
       "310       17.767591          2.313419       4\n",
       "311       17.773990          0.304625       4\n",
       "312       17.774822          0.044233       4\n",
       "\n",
       "[313 rows x 3 columns]"
      ]
     },
     "execution_count": 28,
     "metadata": {},
     "output_type": "execute_result"
    }
   ],
   "source": [
    "df"
   ]
  },
  {
   "cell_type": "code",
   "execution_count": 29,
   "metadata": {},
   "outputs": [
    {
     "data": {
      "text/html": [
       "<div>\n",
       "<style scoped>\n",
       "    .dataframe tbody tr th:only-of-type {\n",
       "        vertical-align: middle;\n",
       "    }\n",
       "\n",
       "    .dataframe tbody tr th {\n",
       "        vertical-align: top;\n",
       "    }\n",
       "\n",
       "    .dataframe thead th {\n",
       "        text-align: right;\n",
       "    }\n",
       "</style>\n",
       "<table border=\"1\" class=\"dataframe\">\n",
       "  <thead>\n",
       "    <tr style=\"text-align: right;\">\n",
       "      <th></th>\n",
       "      <th>Validation Error</th>\n",
       "      <th>Degree</th>\n",
       "    </tr>\n",
       "  </thead>\n",
       "  <tbody>\n",
       "    <tr>\n",
       "      <th>0</th>\n",
       "      <td>23.581743</td>\n",
       "      <td>1</td>\n",
       "    </tr>\n",
       "    <tr>\n",
       "      <th>1</th>\n",
       "      <td>18.087953</td>\n",
       "      <td>2</td>\n",
       "    </tr>\n",
       "    <tr>\n",
       "      <th>2</th>\n",
       "      <td>18.182536</td>\n",
       "      <td>3</td>\n",
       "    </tr>\n",
       "    <tr>\n",
       "      <th>3</th>\n",
       "      <td>18.329240</td>\n",
       "      <td>4</td>\n",
       "    </tr>\n",
       "    <tr>\n",
       "      <th>4</th>\n",
       "      <td>18.257448</td>\n",
       "      <td>5</td>\n",
       "    </tr>\n",
       "    <tr>\n",
       "      <th>5</th>\n",
       "      <td>18.375126</td>\n",
       "      <td>6</td>\n",
       "    </tr>\n",
       "    <tr>\n",
       "      <th>6</th>\n",
       "      <td>18.380267</td>\n",
       "      <td>7</td>\n",
       "    </tr>\n",
       "  </tbody>\n",
       "</table>\n",
       "</div>"
      ],
      "text/plain": [
       "   Validation Error  Degree\n",
       "0         23.581743       1\n",
       "1         18.087953       2\n",
       "2         18.182536       3\n",
       "3         18.329240       4\n",
       "4         18.257448       5\n",
       "5         18.375126       6\n",
       "6         18.380267       7"
      ]
     },
     "execution_count": 29,
     "metadata": {},
     "output_type": "execute_result"
    }
   ],
   "source": [
    "loo = LeaveOneOut()\n",
    "LeaveOneOutCV=[]\n",
    "for j in range(1,8):\n",
    "    LeaveOneOutErrors=[]\n",
    "    for train_index, validation_index in loo.split(X_train):\n",
    "        X_trainv, X_valid = X_train[train_index],X_train[validation_index]\n",
    "        Y_trainv, Y_valid = Y_train[train_index], Y_train[validation_index]\n",
    "        LeaveOneOutErrors.append(create_polynomial_regression_model(j))\n",
    "        df = pd.DataFrame (LeaveOneOutErrors,columns=['Training Error','Validation Error','Degree'])\n",
    "    LeaveOneOutCV.append([df['Validation Error'].mean(),df['Degree'][0]])  \n",
    "LeaveOneOutCV_df = pd.DataFrame (LeaveOneOutCV,columns=['Validation Error','Degree'])\n",
    "LeaveOneOutCV_df"
   ]
  },
  {
   "cell_type": "code",
   "execution_count": 30,
   "metadata": {},
   "outputs": [
    {
     "data": {
      "text/plain": [
       "<matplotlib.legend.Legend at 0x7ff614f421c0>"
      ]
     },
     "execution_count": 30,
     "metadata": {},
     "output_type": "execute_result"
    },
    {
     "data": {
      "image/png": "[encoded data removed]",
      "text/plain": [
       "<Figure size 432x288 with 1 Axes>"
      ]
     },
     "metadata": {
      "needs_background": "light"
     },
     "output_type": "display_data"
    }
   ],
   "source": [
    "fig=plt.figure()\n",
    "ax = fig.add_subplot(1, 1, 1)\n",
    "ax.plot(LeaveOneOutCV_df['Degree'].values,LeaveOneOutCV_df['Validation Error'].values,label = 'Leave One Out Error')\n",
    "ax.set_xlabel('Degree')\n",
    "ax.set_ylabel('Errors')\n",
    "ax.tick_params(axis='x', labelsize=8)\n",
    "ax.legend(loc='best')"
   ]
  },
  {
   "cell_type": "code",
   "execution_count": 31,
   "metadata": {},
   "outputs": [
    {
     "name": "stdout",
     "output_type": "stream",
     "text": [
      "23.777949113293655\n"
     ]
    }
   ],
   "source": [
    "#Let's finally fit a model with a chosen order of polynomial\n",
    "poly_features = PolynomialFeatures(degree=2,include_bias=False)\n",
    "X_train_poly = poly_features.fit_transform(X_train)\n",
    "poly_model = LinearRegression()\n",
    "poly_model.fit(X_train_poly, Y_train)\n",
    "X_test_poly = poly_features.fit_transform(X_test)\n",
    "Y_test_predict=poly_model.predict(X_test_poly)\n",
    "mse_test = mean_squared_error(Y_test, Y_test_predict)\n",
    "print(mse_test)"
   ]
  },
  {
   "cell_type": "code",
   "execution_count": 33,
   "metadata": {},
   "outputs": [
    {
     "name": "stdout",
     "output_type": "stream",
     "text": [
      "[1 2 4 5 6 7 8 9] [ 3 10]\n",
      "[ 1  2  3  4  6  8  9 10] [5 7]\n",
      "[ 2  3  5  6  7  8  9 10] [1 4]\n",
      "[ 1  3  4  5  6  7  9 10] [2 8]\n",
      "[ 1  2  3  4  5  7  8 10] [6 9]\n"
     ]
    }
   ],
   "source": [
    "from sklearn.model_selection import KFold\n",
    "\n",
    "cv = KFold(n_splits=5,random_state=1, shuffle=True)\n",
    "X = np.array([1, 2, 3, 4,5,6,7,8,9,10])\n",
    "Y = np.array([11, 12, 13, 14,15,16,17,18,19,20])\n",
    "for train_index, validation_index in cv.split(X):\n",
    "    X_train, X_valid, Y_train, Y_valid = X[train_index], X[validation_index], Y[train_index], Y[validation_index]\n",
    "    print(X_train, X_valid)"
   ]
  },
  {
   "cell_type": "code",
   "execution_count": 35,
   "metadata": {},
   "outputs": [
    {
     "name": "stdout",
     "output_type": "stream",
     "text": [
      "[ 3  4  5  6  7  8  9 10] [1 2]\n",
      "[ 1  2  5  6  7  8  9 10] [3 4]\n",
      "[ 1  2  3  4  7  8  9 10] [5 6]\n",
      "[ 1  2  3  4  5  6  9 10] [7 8]\n",
      "[1 2 3 4 5 6 7 8] [ 9 10]\n"
     ]
    }
   ],
   "source": [
    "from sklearn.model_selection import KFold\n",
    "\n",
    "cv = KFold(n_splits=5,random_state=1, shuffle=False)\n",
    "X = np.array([1, 2, 3, 4,5,6,7,8,9,10])\n",
    "Y = np.array([11, 12, 13, 14,15,16,17,18,19,20])\n",
    "for train_index, validation_index in cv.split(X):\n",
    "    X_train, X_valid, Y_train, Y_valid = X[train_index], X[validation_index], Y[train_index], Y[validation_index]\n",
    "    print(X_train, X_valid)"
   ]
  },
  {
   "cell_type": "code",
   "execution_count": 40,
   "metadata": {},
   "outputs": [
    {
     "name": "stdout",
     "output_type": "stream",
     "text": [
      "[13 14 15 16 17 18 19 20] [11 12]\n",
      "[11 12 15 16 17 18 19 20] [13 14]\n",
      "[11 12 13 14 17 18 19 20] [15 16]\n",
      "[11 12 13 14 15 16 19 20] [17 18]\n",
      "[11 12 13 14 15 16 17 18] [19 20]\n"
     ]
    }
   ],
   "source": [
    " from sklearn.model_selection import KFold\n",
    "\n",
    "cv = KFold(n_splits=5,random_state=1, shuffle=False)\n",
    "X = np.array([1, 2, 3, 4,5,6,7,8,9,10])\n",
    "Y = np.array([11, 12, 13, 14,15,16,17,18,19,20])\n",
    "for train_index, validation_index in cv.split(Y):\n",
    "    X_train, X_valid, Y_train, Y_valid = X[train_index], X[validation_index], Y[train_index], Y[validation_index]\n",
    "    print(Y_train, Y_valid)"
   ]
  },
  {
   "cell_type": "code",
   "execution_count": 41,
   "metadata": {},
   "outputs": [],
   "source": [
    "y=np.array(auto['mpg'].values)\n",
    "x=np.array(auto['horsepower'].values.reshape(-1,1))"
   ]
  },
  {
   "cell_type": "code",
   "execution_count": 42,
   "metadata": {},
   "outputs": [],
   "source": [
    "X_train, X_test, Y_train, Y_test = train_test_split(x, y, test_size=0.2, random_state=5)"
   ]
  },
  {
   "cell_type": "code",
   "execution_count": 43,
   "metadata": {},
   "outputs": [
    {
     "data": {
      "text/plain": [
       "Training Error      17.768175\n",
       "Validation Error    17.870217\n",
       "dtype: float64"
      ]
     },
     "execution_count": 43,
     "metadata": {},
     "output_type": "execute_result"
    }
   ],
   "source": [
    "from sklearn.model_selection import KFold\n",
    "cv = KFold(n_splits=5, random_state=5, shuffle=True)\n",
    "CVErrors=[]\n",
    "for train_index, validation_index in cv.split(X_train):\n",
    "    X_trainv, X_valid, Y_trainv, Y_valid = X_train[train_index], X_train[validation_index], Y_train[train_index], Y_train[validation_index]\n",
    "    CVErrors.append(create_polynomial_regression_model(2))\n",
    "df = pd.DataFrame (CVErrors,columns=['Training Error','Validation Error','Degree'])\n",
    "kfoldCV = df[['Training Error','Validation Error']].mean()  \n",
    "kfoldCV  "
   ]
  },
  {
   "cell_type": "code",
   "execution_count": 44,
   "metadata": {},
   "outputs": [
    {
     "data": {
      "text/html": [
       "<div>\n",
       "<style scoped>\n",
       "    .dataframe tbody tr th:only-of-type {\n",
       "        vertical-align: middle;\n",
       "    }\n",
       "\n",
       "    .dataframe tbody tr th {\n",
       "        vertical-align: top;\n",
       "    }\n",
       "\n",
       "    .dataframe thead th {\n",
       "        text-align: right;\n",
       "    }\n",
       "</style>\n",
       "<table border=\"1\" class=\"dataframe\">\n",
       "  <thead>\n",
       "    <tr style=\"text-align: right;\">\n",
       "      <th></th>\n",
       "      <th>Training Error</th>\n",
       "      <th>Validation Error</th>\n",
       "      <th>Degree</th>\n",
       "    </tr>\n",
       "  </thead>\n",
       "  <tbody>\n",
       "    <tr>\n",
       "      <th>0</th>\n",
       "      <td>17.989912</td>\n",
       "      <td>17.055220</td>\n",
       "      <td>2</td>\n",
       "    </tr>\n",
       "    <tr>\n",
       "      <th>1</th>\n",
       "      <td>17.388761</td>\n",
       "      <td>19.373706</td>\n",
       "      <td>2</td>\n",
       "    </tr>\n",
       "    <tr>\n",
       "      <th>2</th>\n",
       "      <td>17.583495</td>\n",
       "      <td>18.601646</td>\n",
       "      <td>2</td>\n",
       "    </tr>\n",
       "    <tr>\n",
       "      <th>3</th>\n",
       "      <td>18.549342</td>\n",
       "      <td>14.710377</td>\n",
       "      <td>2</td>\n",
       "    </tr>\n",
       "    <tr>\n",
       "      <th>4</th>\n",
       "      <td>17.329364</td>\n",
       "      <td>19.610135</td>\n",
       "      <td>2</td>\n",
       "    </tr>\n",
       "  </tbody>\n",
       "</table>\n",
       "</div>"
      ],
      "text/plain": [
       "   Training Error  Validation Error  Degree\n",
       "0       17.989912         17.055220       2\n",
       "1       17.388761         19.373706       2\n",
       "2       17.583495         18.601646       2\n",
       "3       18.549342         14.710377       2\n",
       "4       17.329364         19.610135       2"
      ]
     },
     "execution_count": 44,
     "metadata": {},
     "output_type": "execute_result"
    }
   ],
   "source": [
    "df"
   ]
  },
  {
   "cell_type": "code",
   "execution_count": 45,
   "metadata": {},
   "outputs": [
    {
     "data": {
      "text/html": [
       "<div>\n",
       "<style scoped>\n",
       "    .dataframe tbody tr th:only-of-type {\n",
       "        vertical-align: middle;\n",
       "    }\n",
       "\n",
       "    .dataframe tbody tr th {\n",
       "        vertical-align: top;\n",
       "    }\n",
       "\n",
       "    .dataframe thead th {\n",
       "        text-align: right;\n",
       "    }\n",
       "</style>\n",
       "<table border=\"1\" class=\"dataframe\">\n",
       "  <thead>\n",
       "    <tr style=\"text-align: right;\">\n",
       "      <th></th>\n",
       "      <th>Training Error</th>\n",
       "      <th>Validation Error</th>\n",
       "      <th>Degree</th>\n",
       "    </tr>\n",
       "  </thead>\n",
       "  <tbody>\n",
       "    <tr>\n",
       "      <th>0</th>\n",
       "      <td>22.243896</td>\n",
       "      <td>31.826940</td>\n",
       "      <td>1</td>\n",
       "    </tr>\n",
       "    <tr>\n",
       "      <th>1</th>\n",
       "      <td>16.808504</td>\n",
       "      <td>26.350335</td>\n",
       "      <td>2</td>\n",
       "    </tr>\n",
       "    <tr>\n",
       "      <th>2</th>\n",
       "      <td>16.778261</td>\n",
       "      <td>26.245586</td>\n",
       "      <td>3</td>\n",
       "    </tr>\n",
       "    <tr>\n",
       "      <th>3</th>\n",
       "      <td>16.769890</td>\n",
       "      <td>26.133683</td>\n",
       "      <td>4</td>\n",
       "    </tr>\n",
       "    <tr>\n",
       "      <th>4</th>\n",
       "      <td>16.640612</td>\n",
       "      <td>25.504802</td>\n",
       "      <td>5</td>\n",
       "    </tr>\n",
       "    <tr>\n",
       "      <th>...</th>\n",
       "      <td>...</td>\n",
       "      <td>...</td>\n",
       "      <td>...</td>\n",
       "    </tr>\n",
       "    <tr>\n",
       "      <th>65</th>\n",
       "      <td>17.482690</td>\n",
       "      <td>20.442556</td>\n",
       "      <td>3</td>\n",
       "    </tr>\n",
       "    <tr>\n",
       "      <th>66</th>\n",
       "      <td>17.480153</td>\n",
       "      <td>20.645720</td>\n",
       "      <td>4</td>\n",
       "    </tr>\n",
       "    <tr>\n",
       "      <th>67</th>\n",
       "      <td>17.443759</td>\n",
       "      <td>19.595879</td>\n",
       "      <td>5</td>\n",
       "    </tr>\n",
       "    <tr>\n",
       "      <th>68</th>\n",
       "      <td>17.428471</td>\n",
       "      <td>19.235551</td>\n",
       "      <td>6</td>\n",
       "    </tr>\n",
       "    <tr>\n",
       "      <th>69</th>\n",
       "      <td>17.446443</td>\n",
       "      <td>19.816441</td>\n",
       "      <td>7</td>\n",
       "    </tr>\n",
       "  </tbody>\n",
       "</table>\n",
       "<p>70 rows × 3 columns</p>\n",
       "</div>"
      ],
      "text/plain": [
       "    Training Error  Validation Error  Degree\n",
       "0        22.243896         31.826940       1\n",
       "1        16.808504         26.350335       2\n",
       "2        16.778261         26.245586       3\n",
       "3        16.769890         26.133683       4\n",
       "4        16.640612         25.504802       5\n",
       "..             ...               ...     ...\n",
       "65       17.482690         20.442556       3\n",
       "66       17.480153         20.645720       4\n",
       "67       17.443759         19.595879       5\n",
       "68       17.428471         19.235551       6\n",
       "69       17.446443         19.816441       7\n",
       "\n",
       "[70 rows x 3 columns]"
      ]
     },
     "execution_count": 45,
     "metadata": {},
     "output_type": "execute_result"
    }
   ],
   "source": [
    "cv = KFold(n_splits=10, random_state=42, shuffle=True)\n",
    "CVErrors=[]\n",
    "for train_index, validation_index in cv.split(X_train):\n",
    "    X_trainv, X_valid, Y_trainv, Y_valid = X_train[train_index], X_train[validation_index], Y_train[train_index], Y_train[validation_index]\n",
    "    for j in range(1,8):\n",
    "        CVErrors.append(create_polynomial_regression_model(j))\n",
    "        df = pd.DataFrame (CVErrors,columns=['Training Error','Validation Error','Degree'])\n",
    "df\n",
    "#10 parçaya böüp her parça için 7 farklı derece denedik."
   ]
  },
  {
   "cell_type": "code",
   "execution_count": 46,
   "metadata": {},
   "outputs": [
    {
     "data": {
      "text/html": [
       "<div>\n",
       "<style scoped>\n",
       "    .dataframe tbody tr th:only-of-type {\n",
       "        vertical-align: middle;\n",
       "    }\n",
       "\n",
       "    .dataframe tbody tr th {\n",
       "        vertical-align: top;\n",
       "    }\n",
       "\n",
       "    .dataframe thead th {\n",
       "        text-align: right;\n",
       "    }\n",
       "</style>\n",
       "<table border=\"1\" class=\"dataframe\">\n",
       "  <thead>\n",
       "    <tr style=\"text-align: right;\">\n",
       "      <th></th>\n",
       "      <th>Degree</th>\n",
       "      <th>Validation Error</th>\n",
       "    </tr>\n",
       "  </thead>\n",
       "  <tbody>\n",
       "    <tr>\n",
       "      <th>0</th>\n",
       "      <td>1</td>\n",
       "      <td>23.527574</td>\n",
       "    </tr>\n",
       "    <tr>\n",
       "      <th>1</th>\n",
       "      <td>2</td>\n",
       "      <td>17.969492</td>\n",
       "    </tr>\n",
       "    <tr>\n",
       "      <th>2</th>\n",
       "      <td>3</td>\n",
       "      <td>18.029290</td>\n",
       "    </tr>\n",
       "    <tr>\n",
       "      <th>3</th>\n",
       "      <td>4</td>\n",
       "      <td>18.122916</td>\n",
       "    </tr>\n",
       "    <tr>\n",
       "      <th>4</th>\n",
       "      <td>5</td>\n",
       "      <td>18.098855</td>\n",
       "    </tr>\n",
       "    <tr>\n",
       "      <th>5</th>\n",
       "      <td>6</td>\n",
       "      <td>18.177606</td>\n",
       "    </tr>\n",
       "    <tr>\n",
       "      <th>6</th>\n",
       "      <td>7</td>\n",
       "      <td>18.195550</td>\n",
       "    </tr>\n",
       "  </tbody>\n",
       "</table>\n",
       "</div>"
      ],
      "text/plain": [
       "   Degree  Validation Error\n",
       "0       1         23.527574\n",
       "1       2         17.969492\n",
       "2       3         18.029290\n",
       "3       4         18.122916\n",
       "4       5         18.098855\n",
       "5       6         18.177606\n",
       "6       7         18.195550"
      ]
     },
     "execution_count": 46,
     "metadata": {},
     "output_type": "execute_result"
    }
   ],
   "source": [
    "kfoldCV_by_degree = df.groupby(\"Degree\")\n",
    "kfoldCV_by_degree = kfoldCV_by_degree.mean()\n",
    "kfoldCV_by_degree = kfoldCV_by_degree.reset_index()\n",
    "kfoldCV_by_degree[['Degree', 'Validation Error']]\n",
    "#Dereceye göre gruplayıp ortalama aldık."
   ]
  },
  {
   "cell_type": "code",
   "execution_count": null,
   "metadata": {},
   "outputs": [],
   "source": [
    "fig=plt.figure()\n",
    "ax = fig.add_subplot(1, 1, 1)\n",
    "ax.plot(kfoldCV_by_degree['Degree'].values,kfoldCV_by_degree['Validation Error'].values,label = '5 fold CV Error')\n",
    "ax.set_xlabel('Degree')\n",
    "ax.set_ylabel('Errors')\n",
    "ax.tick_params(axis='x', labelsize=8)\n",
    "ax.legend(loc='best')"
   ]
  },
  {
   "cell_type": "code",
   "execution_count": 48,
   "metadata": {},
   "outputs": [
    {
     "data": {
      "text/plain": [
       "Text(0, 0.5, 'Errors')"
      ]
     },
     "execution_count": 48,
     "metadata": {},
     "output_type": "execute_result"
    },
    {
     "data": {
      "image/png": "[encoded data removed]",
      "text/plain": [
       "<Figure size 432x288 with 1 Axes>"
      ]
     },
     "metadata": {
      "needs_background": "light"
     },
     "output_type": "display_data"
    }
   ],
   "source": [
    "fig=plt.figure()\n",
    "ax = fig.add_subplot(1, 1, 1)\n",
    "for j in range(1,11):\n",
    "#Kfold 10 defa tekrar edildi.\n",
    "    cv = KFold(n_splits=10, random_state=j, shuffle=True)\n",
    "    CVErrors=[]\n",
    "    for train_index, validation_index in cv.split(X_train):\n",
    "        X_trainv, X_valid, Y_trainv, Y_valid = X_train[train_index], X_train[validation_index], Y_train[train_index], Y_train[validation_index]\n",
    "        for j in range(1,8):\n",
    "            CVErrors.append(create_polynomial_regression_model(j))\n",
    "            df = pd.DataFrame (CVErrors,columns=['Training Error','Validation Error','Degree'])\n",
    "    kfoldCV_by_degree = df.groupby(\"Degree\")\n",
    "    kfoldCV_by_degree = kfoldCV_by_degree.mean()\n",
    "    kfoldCV_by_degree = kfoldCV_by_degree.reset_index()\n",
    "    kfoldCV_by_degree[['Degree', 'Validation Error']]\n",
    "    ax.plot(kfoldCV_by_degree['Degree'].values,kfoldCV_by_degree['Validation Error'].values, label = 'Training Error')\n",
    "ax.set_xlabel('Degree')\n",
    "ax.set_ylabel('Errors')\n"
   ]
  },
  {
   "cell_type": "code",
   "execution_count": null,
   "metadata": {},
   "outputs": [],
   "source": []
  },
  {
   "cell_type": "code",
   "execution_count": null,
   "metadata": {},
   "outputs": [],
   "source": []
  }
 ],
 "metadata": {
  "kernelspec": {
   "display_name": "Python 3",
   "language": "python",
   "name": "python3"
  },
  "language_info": {
   "codemirror_mode": {
    "name": "ipython",
    "version": 3
   },
   "file_extension": ".py",
   "mimetype": "text/x-python",
   "name": "python",
   "nbconvert_exporter": "python",
   "pygments_lexer": "ipython3",
   "version": "3.8.5"
  }
 },
 "nbformat": 4,
 "nbformat_minor": 1
}
